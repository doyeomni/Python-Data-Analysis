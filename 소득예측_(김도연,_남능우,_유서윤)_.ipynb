{
  "cells": [
    {
      "cell_type": "markdown",
      "id": "840861ce",
      "metadata": {
        "id": "840861ce"
      },
      "source": [
        "# 1. 개요\n",
        "\n",
        "-분석의 목적: 실제 문제 해결에 필요한 데이터 분석 및 모델링 기법을 정확히 배우는 것입니다. 이를 통해 참가자들은 데이터 과학자나 머신러닝 엔지니어로서 필요한 핵심 역량을 갖추게 됩니다. 이러한 학습 경험은 참가자들이 머신러닝 대회에서 좋은 성적을 내거나 취업 시장에서 경쟁력을 가질 수 있도록 도와줍니다.\n",
        "\n",
        "-문제 설명: 이 프로젝트는 인구 통계학적 정보(교육 수준, 결혼 상태 등)와 일반적인 생활 습관(주당 근무 시간 등) 등 다양한 특성들을 바탕으로 소득 수준 예측하는 문제에 대해 다룹니다. 이를 통해 실제 데이터와 타겟 변수 간의 관계를 분석하고 최적의 모델 선택 및 성능 평가 방법에 대해 배울 수 있습니다. 예를 들어, 교육 수준이나 근로 시간이 소득에 어떤 영향을 미치는지를 분석하고, 이를 바탕으로 소득을 예측하는 모델을 구축할 수 있습니다. 이러한 분석은 실제로 정책 결정이나 비즈니스 전략 수립 등에 활용될 수 있습니다."
      ]
    },
    {
      "cell_type": "markdown",
      "id": "efe69e3a",
      "metadata": {
        "id": "efe69e3a"
      },
      "source": [
        "# 2. 데이터 수집\n",
        "\n",
        "-데이터 출처: https://dacon.io/competitions/official/236230/data\n",
        "\n",
        "-수집 방법: 대회에서 제공한 데이터를 사용하여 분석 수행한 것으로 해당 데이터는 대회 주최측이 데이터를 수집하고 제공하였습니다.\n",
        "\n",
        "-수집된 데이터의 구조 및 특성 설명: 해당 데이터의 구조와 특징은 아래와 같습니다."
      ]
    },
    {
      "cell_type": "code",
      "source": [
        "from google.colab import drive\n",
        "drive.mount('/content/drive')"
      ],
      "metadata": {
        "colab": {
          "base_uri": "https://localhost:8080/"
        },
        "id": "UTc_19z_hqel",
        "outputId": "348d112e-8cc6-48f5-e65f-9ae6f240e348"
      },
      "id": "UTc_19z_hqel",
      "execution_count": 126,
      "outputs": [
        {
          "output_type": "stream",
          "name": "stdout",
          "text": [
            "Drive already mounted at /content/drive; to attempt to forcibly remount, call drive.mount(\"/content/drive\", force_remount=True).\n"
          ]
        }
      ]
    },
    {
      "cell_type": "code",
      "execution_count": 127,
      "id": "75943a1c",
      "metadata": {
        "scrolled": true,
        "id": "75943a1c",
        "outputId": "a0fc1816-a872-4a3d-def4-adc450003a6c",
        "colab": {
          "base_uri": "https://localhost:8080/"
        }
      },
      "outputs": [
        {
          "output_type": "stream",
          "name": "stdout",
          "text": [
            "Requirement already satisfied: lightgbm in /usr/local/lib/python3.10/dist-packages (4.1.0)\n",
            "Requirement already satisfied: numpy in /usr/local/lib/python3.10/dist-packages (from lightgbm) (1.25.2)\n",
            "Requirement already satisfied: scipy in /usr/local/lib/python3.10/dist-packages (from lightgbm) (1.11.4)\n"
          ]
        }
      ],
      "source": [
        "import pandas as pd\n",
        "import numpy as np\n",
        "import os\n",
        "import random\n",
        "import matplotlib.pyplot as plt\n",
        "!pip install lightgbm\n",
        "\n",
        "def seed_everything(seed):\n",
        "    random.seed(seed)\n",
        "    os.environ['PYTHONHASHSEED'] = str(seed)\n",
        "    np.random.seed(seed)\n",
        "\n",
        "seed_everything(42) # Seed 고정"
      ]
    },
    {
      "cell_type": "code",
      "execution_count": 128,
      "id": "544b2770",
      "metadata": {
        "id": "544b2770"
      },
      "outputs": [],
      "source": [
        "train = pd.read_csv('/content/drive/MyDrive/24 데공/소득예측/open (1)/open/train.csv')\n",
        "test = pd.read_csv('/content/drive/MyDrive/24 데공/소득예측/open (1)/open/test.csv')"
      ]
    },
    {
      "cell_type": "code",
      "execution_count": 129,
      "id": "4435694c",
      "metadata": {
        "id": "4435694c",
        "outputId": "2009801e-2652-494d-b94b-0964d773ea53",
        "colab": {
          "base_uri": "https://localhost:8080/",
          "height": 522
        }
      },
      "outputs": [
        {
          "output_type": "display_data",
          "data": {
            "text/plain": [
              "            ID  Age Gender                Education_Status Employment_Status  \\\n",
              "0  TRAIN_00000   63      M                    Middle (7-8)         Full-Time   \n",
              "1  TRAIN_00001   37      M  Associates degree (Vocational)         Full-Time   \n",
              "2  TRAIN_00002   58      F                   High graduate         Full-Time   \n",
              "\n",
              "   Working_Week (Yearly)              Industry_Status  \\\n",
              "0                      4              Social Services   \n",
              "1                     52                Entertainment   \n",
              "2                     52  Manufacturing (Non-durable)   \n",
              "\n",
              "                  Occupation_Status   Race Hispanic_Origin  ... Citizenship  \\\n",
              "0                          Services  White       All other  ...      Native   \n",
              "1                          Services  White       All other  ...      Native   \n",
              "2  Admin Support (include Clerical)  Black       All other  ...      Native   \n",
              "\n",
              "  Birth_Country Birth_Country (Father) Birth_Country (Mother)  \\\n",
              "0            US                     US                     US   \n",
              "1            US                     US                     US   \n",
              "2            US                     US                     US   \n",
              "\n",
              "                                    Tax_Status Gains Losses Dividends  \\\n",
              "0                                     Nonfiler     0      0         0   \n",
              "1                                       Single     0      0         0   \n",
              "2  Married Filling Jointly both under 65 (MFJ)  3411      0         0   \n",
              "\n",
              "   Income_Status  Income  \n",
              "0        Unknown     425  \n",
              "1   Under Median       0  \n",
              "2   Under Median     860  \n",
              "\n",
              "[3 rows x 23 columns]"
            ],
            "text/html": [
              "\n",
              "  <div id=\"df-8687cb8f-1c11-4a0c-b2ac-a775e49af5b2\" class=\"colab-df-container\">\n",
              "    <div>\n",
              "<style scoped>\n",
              "    .dataframe tbody tr th:only-of-type {\n",
              "        vertical-align: middle;\n",
              "    }\n",
              "\n",
              "    .dataframe tbody tr th {\n",
              "        vertical-align: top;\n",
              "    }\n",
              "\n",
              "    .dataframe thead th {\n",
              "        text-align: right;\n",
              "    }\n",
              "</style>\n",
              "<table border=\"1\" class=\"dataframe\">\n",
              "  <thead>\n",
              "    <tr style=\"text-align: right;\">\n",
              "      <th></th>\n",
              "      <th>ID</th>\n",
              "      <th>Age</th>\n",
              "      <th>Gender</th>\n",
              "      <th>Education_Status</th>\n",
              "      <th>Employment_Status</th>\n",
              "      <th>Working_Week (Yearly)</th>\n",
              "      <th>Industry_Status</th>\n",
              "      <th>Occupation_Status</th>\n",
              "      <th>Race</th>\n",
              "      <th>Hispanic_Origin</th>\n",
              "      <th>...</th>\n",
              "      <th>Citizenship</th>\n",
              "      <th>Birth_Country</th>\n",
              "      <th>Birth_Country (Father)</th>\n",
              "      <th>Birth_Country (Mother)</th>\n",
              "      <th>Tax_Status</th>\n",
              "      <th>Gains</th>\n",
              "      <th>Losses</th>\n",
              "      <th>Dividends</th>\n",
              "      <th>Income_Status</th>\n",
              "      <th>Income</th>\n",
              "    </tr>\n",
              "  </thead>\n",
              "  <tbody>\n",
              "    <tr>\n",
              "      <th>0</th>\n",
              "      <td>TRAIN_00000</td>\n",
              "      <td>63</td>\n",
              "      <td>M</td>\n",
              "      <td>Middle (7-8)</td>\n",
              "      <td>Full-Time</td>\n",
              "      <td>4</td>\n",
              "      <td>Social Services</td>\n",
              "      <td>Services</td>\n",
              "      <td>White</td>\n",
              "      <td>All other</td>\n",
              "      <td>...</td>\n",
              "      <td>Native</td>\n",
              "      <td>US</td>\n",
              "      <td>US</td>\n",
              "      <td>US</td>\n",
              "      <td>Nonfiler</td>\n",
              "      <td>0</td>\n",
              "      <td>0</td>\n",
              "      <td>0</td>\n",
              "      <td>Unknown</td>\n",
              "      <td>425</td>\n",
              "    </tr>\n",
              "    <tr>\n",
              "      <th>1</th>\n",
              "      <td>TRAIN_00001</td>\n",
              "      <td>37</td>\n",
              "      <td>M</td>\n",
              "      <td>Associates degree (Vocational)</td>\n",
              "      <td>Full-Time</td>\n",
              "      <td>52</td>\n",
              "      <td>Entertainment</td>\n",
              "      <td>Services</td>\n",
              "      <td>White</td>\n",
              "      <td>All other</td>\n",
              "      <td>...</td>\n",
              "      <td>Native</td>\n",
              "      <td>US</td>\n",
              "      <td>US</td>\n",
              "      <td>US</td>\n",
              "      <td>Single</td>\n",
              "      <td>0</td>\n",
              "      <td>0</td>\n",
              "      <td>0</td>\n",
              "      <td>Under Median</td>\n",
              "      <td>0</td>\n",
              "    </tr>\n",
              "    <tr>\n",
              "      <th>2</th>\n",
              "      <td>TRAIN_00002</td>\n",
              "      <td>58</td>\n",
              "      <td>F</td>\n",
              "      <td>High graduate</td>\n",
              "      <td>Full-Time</td>\n",
              "      <td>52</td>\n",
              "      <td>Manufacturing (Non-durable)</td>\n",
              "      <td>Admin Support (include Clerical)</td>\n",
              "      <td>Black</td>\n",
              "      <td>All other</td>\n",
              "      <td>...</td>\n",
              "      <td>Native</td>\n",
              "      <td>US</td>\n",
              "      <td>US</td>\n",
              "      <td>US</td>\n",
              "      <td>Married Filling Jointly both under 65 (MFJ)</td>\n",
              "      <td>3411</td>\n",
              "      <td>0</td>\n",
              "      <td>0</td>\n",
              "      <td>Under Median</td>\n",
              "      <td>860</td>\n",
              "    </tr>\n",
              "  </tbody>\n",
              "</table>\n",
              "<p>3 rows × 23 columns</p>\n",
              "</div>\n",
              "    <div class=\"colab-df-buttons\">\n",
              "\n",
              "  <div class=\"colab-df-container\">\n",
              "    <button class=\"colab-df-convert\" onclick=\"convertToInteractive('df-8687cb8f-1c11-4a0c-b2ac-a775e49af5b2')\"\n",
              "            title=\"Convert this dataframe to an interactive table.\"\n",
              "            style=\"display:none;\">\n",
              "\n",
              "  <svg xmlns=\"http://www.w3.org/2000/svg\" height=\"24px\" viewBox=\"0 -960 960 960\">\n",
              "    <path d=\"M120-120v-720h720v720H120Zm60-500h600v-160H180v160Zm220 220h160v-160H400v160Zm0 220h160v-160H400v160ZM180-400h160v-160H180v160Zm440 0h160v-160H620v160ZM180-180h160v-160H180v160Zm440 0h160v-160H620v160Z\"/>\n",
              "  </svg>\n",
              "    </button>\n",
              "\n",
              "  <style>\n",
              "    .colab-df-container {\n",
              "      display:flex;\n",
              "      gap: 12px;\n",
              "    }\n",
              "\n",
              "    .colab-df-convert {\n",
              "      background-color: #E8F0FE;\n",
              "      border: none;\n",
              "      border-radius: 50%;\n",
              "      cursor: pointer;\n",
              "      display: none;\n",
              "      fill: #1967D2;\n",
              "      height: 32px;\n",
              "      padding: 0 0 0 0;\n",
              "      width: 32px;\n",
              "    }\n",
              "\n",
              "    .colab-df-convert:hover {\n",
              "      background-color: #E2EBFA;\n",
              "      box-shadow: 0px 1px 2px rgba(60, 64, 67, 0.3), 0px 1px 3px 1px rgba(60, 64, 67, 0.15);\n",
              "      fill: #174EA6;\n",
              "    }\n",
              "\n",
              "    .colab-df-buttons div {\n",
              "      margin-bottom: 4px;\n",
              "    }\n",
              "\n",
              "    [theme=dark] .colab-df-convert {\n",
              "      background-color: #3B4455;\n",
              "      fill: #D2E3FC;\n",
              "    }\n",
              "\n",
              "    [theme=dark] .colab-df-convert:hover {\n",
              "      background-color: #434B5C;\n",
              "      box-shadow: 0px 1px 3px 1px rgba(0, 0, 0, 0.15);\n",
              "      filter: drop-shadow(0px 1px 2px rgba(0, 0, 0, 0.3));\n",
              "      fill: #FFFFFF;\n",
              "    }\n",
              "  </style>\n",
              "\n",
              "    <script>\n",
              "      const buttonEl =\n",
              "        document.querySelector('#df-8687cb8f-1c11-4a0c-b2ac-a775e49af5b2 button.colab-df-convert');\n",
              "      buttonEl.style.display =\n",
              "        google.colab.kernel.accessAllowed ? 'block' : 'none';\n",
              "\n",
              "      async function convertToInteractive(key) {\n",
              "        const element = document.querySelector('#df-8687cb8f-1c11-4a0c-b2ac-a775e49af5b2');\n",
              "        const dataTable =\n",
              "          await google.colab.kernel.invokeFunction('convertToInteractive',\n",
              "                                                    [key], {});\n",
              "        if (!dataTable) return;\n",
              "\n",
              "        const docLinkHtml = 'Like what you see? Visit the ' +\n",
              "          '<a target=\"_blank\" href=https://colab.research.google.com/notebooks/data_table.ipynb>data table notebook</a>'\n",
              "          + ' to learn more about interactive tables.';\n",
              "        element.innerHTML = '';\n",
              "        dataTable['output_type'] = 'display_data';\n",
              "        await google.colab.output.renderOutput(dataTable, element);\n",
              "        const docLink = document.createElement('div');\n",
              "        docLink.innerHTML = docLinkHtml;\n",
              "        element.appendChild(docLink);\n",
              "      }\n",
              "    </script>\n",
              "  </div>\n",
              "\n",
              "\n",
              "<div id=\"df-13b4d2af-7f78-489d-96ff-28d6f180b55e\">\n",
              "  <button class=\"colab-df-quickchart\" onclick=\"quickchart('df-13b4d2af-7f78-489d-96ff-28d6f180b55e')\"\n",
              "            title=\"Suggest charts\"\n",
              "            style=\"display:none;\">\n",
              "\n",
              "<svg xmlns=\"http://www.w3.org/2000/svg\" height=\"24px\"viewBox=\"0 0 24 24\"\n",
              "     width=\"24px\">\n",
              "    <g>\n",
              "        <path d=\"M19 3H5c-1.1 0-2 .9-2 2v14c0 1.1.9 2 2 2h14c1.1 0 2-.9 2-2V5c0-1.1-.9-2-2-2zM9 17H7v-7h2v7zm4 0h-2V7h2v10zm4 0h-2v-4h2v4z\"/>\n",
              "    </g>\n",
              "</svg>\n",
              "  </button>\n",
              "\n",
              "<style>\n",
              "  .colab-df-quickchart {\n",
              "      --bg-color: #E8F0FE;\n",
              "      --fill-color: #1967D2;\n",
              "      --hover-bg-color: #E2EBFA;\n",
              "      --hover-fill-color: #174EA6;\n",
              "      --disabled-fill-color: #AAA;\n",
              "      --disabled-bg-color: #DDD;\n",
              "  }\n",
              "\n",
              "  [theme=dark] .colab-df-quickchart {\n",
              "      --bg-color: #3B4455;\n",
              "      --fill-color: #D2E3FC;\n",
              "      --hover-bg-color: #434B5C;\n",
              "      --hover-fill-color: #FFFFFF;\n",
              "      --disabled-bg-color: #3B4455;\n",
              "      --disabled-fill-color: #666;\n",
              "  }\n",
              "\n",
              "  .colab-df-quickchart {\n",
              "    background-color: var(--bg-color);\n",
              "    border: none;\n",
              "    border-radius: 50%;\n",
              "    cursor: pointer;\n",
              "    display: none;\n",
              "    fill: var(--fill-color);\n",
              "    height: 32px;\n",
              "    padding: 0;\n",
              "    width: 32px;\n",
              "  }\n",
              "\n",
              "  .colab-df-quickchart:hover {\n",
              "    background-color: var(--hover-bg-color);\n",
              "    box-shadow: 0 1px 2px rgba(60, 64, 67, 0.3), 0 1px 3px 1px rgba(60, 64, 67, 0.15);\n",
              "    fill: var(--button-hover-fill-color);\n",
              "  }\n",
              "\n",
              "  .colab-df-quickchart-complete:disabled,\n",
              "  .colab-df-quickchart-complete:disabled:hover {\n",
              "    background-color: var(--disabled-bg-color);\n",
              "    fill: var(--disabled-fill-color);\n",
              "    box-shadow: none;\n",
              "  }\n",
              "\n",
              "  .colab-df-spinner {\n",
              "    border: 2px solid var(--fill-color);\n",
              "    border-color: transparent;\n",
              "    border-bottom-color: var(--fill-color);\n",
              "    animation:\n",
              "      spin 1s steps(1) infinite;\n",
              "  }\n",
              "\n",
              "  @keyframes spin {\n",
              "    0% {\n",
              "      border-color: transparent;\n",
              "      border-bottom-color: var(--fill-color);\n",
              "      border-left-color: var(--fill-color);\n",
              "    }\n",
              "    20% {\n",
              "      border-color: transparent;\n",
              "      border-left-color: var(--fill-color);\n",
              "      border-top-color: var(--fill-color);\n",
              "    }\n",
              "    30% {\n",
              "      border-color: transparent;\n",
              "      border-left-color: var(--fill-color);\n",
              "      border-top-color: var(--fill-color);\n",
              "      border-right-color: var(--fill-color);\n",
              "    }\n",
              "    40% {\n",
              "      border-color: transparent;\n",
              "      border-right-color: var(--fill-color);\n",
              "      border-top-color: var(--fill-color);\n",
              "    }\n",
              "    60% {\n",
              "      border-color: transparent;\n",
              "      border-right-color: var(--fill-color);\n",
              "    }\n",
              "    80% {\n",
              "      border-color: transparent;\n",
              "      border-right-color: var(--fill-color);\n",
              "      border-bottom-color: var(--fill-color);\n",
              "    }\n",
              "    90% {\n",
              "      border-color: transparent;\n",
              "      border-bottom-color: var(--fill-color);\n",
              "    }\n",
              "  }\n",
              "</style>\n",
              "\n",
              "  <script>\n",
              "    async function quickchart(key) {\n",
              "      const quickchartButtonEl =\n",
              "        document.querySelector('#' + key + ' button');\n",
              "      quickchartButtonEl.disabled = true;  // To prevent multiple clicks.\n",
              "      quickchartButtonEl.classList.add('colab-df-spinner');\n",
              "      try {\n",
              "        const charts = await google.colab.kernel.invokeFunction(\n",
              "            'suggestCharts', [key], {});\n",
              "      } catch (error) {\n",
              "        console.error('Error during call to suggestCharts:', error);\n",
              "      }\n",
              "      quickchartButtonEl.classList.remove('colab-df-spinner');\n",
              "      quickchartButtonEl.classList.add('colab-df-quickchart-complete');\n",
              "    }\n",
              "    (() => {\n",
              "      let quickchartButtonEl =\n",
              "        document.querySelector('#df-13b4d2af-7f78-489d-96ff-28d6f180b55e button');\n",
              "      quickchartButtonEl.style.display =\n",
              "        google.colab.kernel.accessAllowed ? 'block' : 'none';\n",
              "    })();\n",
              "  </script>\n",
              "</div>\n",
              "\n",
              "    </div>\n",
              "  </div>\n"
            ],
            "application/vnd.google.colaboratory.intrinsic+json": {
              "type": "dataframe"
            }
          },
          "metadata": {}
        },
        {
          "output_type": "display_data",
          "data": {
            "text/plain": [
              "          ID  Age Gender  Education_Status         Employment_Status  \\\n",
              "0  TEST_0000   79      M       High Junior  Children or Armed Forces   \n",
              "1  TEST_0001   47      M  Elementary (5-6)  Children or Armed Forces   \n",
              "2  TEST_0002   18      F       High Junior  Children or Armed Forces   \n",
              "\n",
              "   Working_Week (Yearly)              Industry_Status Occupation_Status  \\\n",
              "0                      0  Not in universe or children           Unknown   \n",
              "1                      0  Not in universe or children           Unknown   \n",
              "2                     52                       Retail          Services   \n",
              "\n",
              "    Race Hispanic_Origin  ...  Household_Summary Citizenship Birth_Country  \\\n",
              "0  White       All other  ...        Householder      Native            US   \n",
              "1  White   Other Spanish  ...  Child 18 or older      Native            US   \n",
              "2  White       All other  ...  Child 18 or older      Native            US   \n",
              "\n",
              "  Birth_Country (Father) Birth_Country (Mother) Tax_Status Gains Losses  \\\n",
              "0                Unknown                Unknown     Single     0      0   \n",
              "1                     US                     US   Nonfiler     0      0   \n",
              "2                     US                     US     Single     0      0   \n",
              "\n",
              "   Dividends  Income_Status  \n",
              "0          0   Under Median  \n",
              "1          0   Under Median  \n",
              "2          0   Under Median  \n",
              "\n",
              "[3 rows x 22 columns]"
            ],
            "text/html": [
              "\n",
              "  <div id=\"df-e5cf33f2-7ffa-44be-9dba-d539b819b13b\" class=\"colab-df-container\">\n",
              "    <div>\n",
              "<style scoped>\n",
              "    .dataframe tbody tr th:only-of-type {\n",
              "        vertical-align: middle;\n",
              "    }\n",
              "\n",
              "    .dataframe tbody tr th {\n",
              "        vertical-align: top;\n",
              "    }\n",
              "\n",
              "    .dataframe thead th {\n",
              "        text-align: right;\n",
              "    }\n",
              "</style>\n",
              "<table border=\"1\" class=\"dataframe\">\n",
              "  <thead>\n",
              "    <tr style=\"text-align: right;\">\n",
              "      <th></th>\n",
              "      <th>ID</th>\n",
              "      <th>Age</th>\n",
              "      <th>Gender</th>\n",
              "      <th>Education_Status</th>\n",
              "      <th>Employment_Status</th>\n",
              "      <th>Working_Week (Yearly)</th>\n",
              "      <th>Industry_Status</th>\n",
              "      <th>Occupation_Status</th>\n",
              "      <th>Race</th>\n",
              "      <th>Hispanic_Origin</th>\n",
              "      <th>...</th>\n",
              "      <th>Household_Summary</th>\n",
              "      <th>Citizenship</th>\n",
              "      <th>Birth_Country</th>\n",
              "      <th>Birth_Country (Father)</th>\n",
              "      <th>Birth_Country (Mother)</th>\n",
              "      <th>Tax_Status</th>\n",
              "      <th>Gains</th>\n",
              "      <th>Losses</th>\n",
              "      <th>Dividends</th>\n",
              "      <th>Income_Status</th>\n",
              "    </tr>\n",
              "  </thead>\n",
              "  <tbody>\n",
              "    <tr>\n",
              "      <th>0</th>\n",
              "      <td>TEST_0000</td>\n",
              "      <td>79</td>\n",
              "      <td>M</td>\n",
              "      <td>High Junior</td>\n",
              "      <td>Children or Armed Forces</td>\n",
              "      <td>0</td>\n",
              "      <td>Not in universe or children</td>\n",
              "      <td>Unknown</td>\n",
              "      <td>White</td>\n",
              "      <td>All other</td>\n",
              "      <td>...</td>\n",
              "      <td>Householder</td>\n",
              "      <td>Native</td>\n",
              "      <td>US</td>\n",
              "      <td>Unknown</td>\n",
              "      <td>Unknown</td>\n",
              "      <td>Single</td>\n",
              "      <td>0</td>\n",
              "      <td>0</td>\n",
              "      <td>0</td>\n",
              "      <td>Under Median</td>\n",
              "    </tr>\n",
              "    <tr>\n",
              "      <th>1</th>\n",
              "      <td>TEST_0001</td>\n",
              "      <td>47</td>\n",
              "      <td>M</td>\n",
              "      <td>Elementary (5-6)</td>\n",
              "      <td>Children or Armed Forces</td>\n",
              "      <td>0</td>\n",
              "      <td>Not in universe or children</td>\n",
              "      <td>Unknown</td>\n",
              "      <td>White</td>\n",
              "      <td>Other Spanish</td>\n",
              "      <td>...</td>\n",
              "      <td>Child 18 or older</td>\n",
              "      <td>Native</td>\n",
              "      <td>US</td>\n",
              "      <td>US</td>\n",
              "      <td>US</td>\n",
              "      <td>Nonfiler</td>\n",
              "      <td>0</td>\n",
              "      <td>0</td>\n",
              "      <td>0</td>\n",
              "      <td>Under Median</td>\n",
              "    </tr>\n",
              "    <tr>\n",
              "      <th>2</th>\n",
              "      <td>TEST_0002</td>\n",
              "      <td>18</td>\n",
              "      <td>F</td>\n",
              "      <td>High Junior</td>\n",
              "      <td>Children or Armed Forces</td>\n",
              "      <td>52</td>\n",
              "      <td>Retail</td>\n",
              "      <td>Services</td>\n",
              "      <td>White</td>\n",
              "      <td>All other</td>\n",
              "      <td>...</td>\n",
              "      <td>Child 18 or older</td>\n",
              "      <td>Native</td>\n",
              "      <td>US</td>\n",
              "      <td>US</td>\n",
              "      <td>US</td>\n",
              "      <td>Single</td>\n",
              "      <td>0</td>\n",
              "      <td>0</td>\n",
              "      <td>0</td>\n",
              "      <td>Under Median</td>\n",
              "    </tr>\n",
              "  </tbody>\n",
              "</table>\n",
              "<p>3 rows × 22 columns</p>\n",
              "</div>\n",
              "    <div class=\"colab-df-buttons\">\n",
              "\n",
              "  <div class=\"colab-df-container\">\n",
              "    <button class=\"colab-df-convert\" onclick=\"convertToInteractive('df-e5cf33f2-7ffa-44be-9dba-d539b819b13b')\"\n",
              "            title=\"Convert this dataframe to an interactive table.\"\n",
              "            style=\"display:none;\">\n",
              "\n",
              "  <svg xmlns=\"http://www.w3.org/2000/svg\" height=\"24px\" viewBox=\"0 -960 960 960\">\n",
              "    <path d=\"M120-120v-720h720v720H120Zm60-500h600v-160H180v160Zm220 220h160v-160H400v160Zm0 220h160v-160H400v160ZM180-400h160v-160H180v160Zm440 0h160v-160H620v160ZM180-180h160v-160H180v160Zm440 0h160v-160H620v160Z\"/>\n",
              "  </svg>\n",
              "    </button>\n",
              "\n",
              "  <style>\n",
              "    .colab-df-container {\n",
              "      display:flex;\n",
              "      gap: 12px;\n",
              "    }\n",
              "\n",
              "    .colab-df-convert {\n",
              "      background-color: #E8F0FE;\n",
              "      border: none;\n",
              "      border-radius: 50%;\n",
              "      cursor: pointer;\n",
              "      display: none;\n",
              "      fill: #1967D2;\n",
              "      height: 32px;\n",
              "      padding: 0 0 0 0;\n",
              "      width: 32px;\n",
              "    }\n",
              "\n",
              "    .colab-df-convert:hover {\n",
              "      background-color: #E2EBFA;\n",
              "      box-shadow: 0px 1px 2px rgba(60, 64, 67, 0.3), 0px 1px 3px 1px rgba(60, 64, 67, 0.15);\n",
              "      fill: #174EA6;\n",
              "    }\n",
              "\n",
              "    .colab-df-buttons div {\n",
              "      margin-bottom: 4px;\n",
              "    }\n",
              "\n",
              "    [theme=dark] .colab-df-convert {\n",
              "      background-color: #3B4455;\n",
              "      fill: #D2E3FC;\n",
              "    }\n",
              "\n",
              "    [theme=dark] .colab-df-convert:hover {\n",
              "      background-color: #434B5C;\n",
              "      box-shadow: 0px 1px 3px 1px rgba(0, 0, 0, 0.15);\n",
              "      filter: drop-shadow(0px 1px 2px rgba(0, 0, 0, 0.3));\n",
              "      fill: #FFFFFF;\n",
              "    }\n",
              "  </style>\n",
              "\n",
              "    <script>\n",
              "      const buttonEl =\n",
              "        document.querySelector('#df-e5cf33f2-7ffa-44be-9dba-d539b819b13b button.colab-df-convert');\n",
              "      buttonEl.style.display =\n",
              "        google.colab.kernel.accessAllowed ? 'block' : 'none';\n",
              "\n",
              "      async function convertToInteractive(key) {\n",
              "        const element = document.querySelector('#df-e5cf33f2-7ffa-44be-9dba-d539b819b13b');\n",
              "        const dataTable =\n",
              "          await google.colab.kernel.invokeFunction('convertToInteractive',\n",
              "                                                    [key], {});\n",
              "        if (!dataTable) return;\n",
              "\n",
              "        const docLinkHtml = 'Like what you see? Visit the ' +\n",
              "          '<a target=\"_blank\" href=https://colab.research.google.com/notebooks/data_table.ipynb>data table notebook</a>'\n",
              "          + ' to learn more about interactive tables.';\n",
              "        element.innerHTML = '';\n",
              "        dataTable['output_type'] = 'display_data';\n",
              "        await google.colab.output.renderOutput(dataTable, element);\n",
              "        const docLink = document.createElement('div');\n",
              "        docLink.innerHTML = docLinkHtml;\n",
              "        element.appendChild(docLink);\n",
              "      }\n",
              "    </script>\n",
              "  </div>\n",
              "\n",
              "\n",
              "<div id=\"df-ed87f607-9104-402b-a6ab-d30662fe6fdd\">\n",
              "  <button class=\"colab-df-quickchart\" onclick=\"quickchart('df-ed87f607-9104-402b-a6ab-d30662fe6fdd')\"\n",
              "            title=\"Suggest charts\"\n",
              "            style=\"display:none;\">\n",
              "\n",
              "<svg xmlns=\"http://www.w3.org/2000/svg\" height=\"24px\"viewBox=\"0 0 24 24\"\n",
              "     width=\"24px\">\n",
              "    <g>\n",
              "        <path d=\"M19 3H5c-1.1 0-2 .9-2 2v14c0 1.1.9 2 2 2h14c1.1 0 2-.9 2-2V5c0-1.1-.9-2-2-2zM9 17H7v-7h2v7zm4 0h-2V7h2v10zm4 0h-2v-4h2v4z\"/>\n",
              "    </g>\n",
              "</svg>\n",
              "  </button>\n",
              "\n",
              "<style>\n",
              "  .colab-df-quickchart {\n",
              "      --bg-color: #E8F0FE;\n",
              "      --fill-color: #1967D2;\n",
              "      --hover-bg-color: #E2EBFA;\n",
              "      --hover-fill-color: #174EA6;\n",
              "      --disabled-fill-color: #AAA;\n",
              "      --disabled-bg-color: #DDD;\n",
              "  }\n",
              "\n",
              "  [theme=dark] .colab-df-quickchart {\n",
              "      --bg-color: #3B4455;\n",
              "      --fill-color: #D2E3FC;\n",
              "      --hover-bg-color: #434B5C;\n",
              "      --hover-fill-color: #FFFFFF;\n",
              "      --disabled-bg-color: #3B4455;\n",
              "      --disabled-fill-color: #666;\n",
              "  }\n",
              "\n",
              "  .colab-df-quickchart {\n",
              "    background-color: var(--bg-color);\n",
              "    border: none;\n",
              "    border-radius: 50%;\n",
              "    cursor: pointer;\n",
              "    display: none;\n",
              "    fill: var(--fill-color);\n",
              "    height: 32px;\n",
              "    padding: 0;\n",
              "    width: 32px;\n",
              "  }\n",
              "\n",
              "  .colab-df-quickchart:hover {\n",
              "    background-color: var(--hover-bg-color);\n",
              "    box-shadow: 0 1px 2px rgba(60, 64, 67, 0.3), 0 1px 3px 1px rgba(60, 64, 67, 0.15);\n",
              "    fill: var(--button-hover-fill-color);\n",
              "  }\n",
              "\n",
              "  .colab-df-quickchart-complete:disabled,\n",
              "  .colab-df-quickchart-complete:disabled:hover {\n",
              "    background-color: var(--disabled-bg-color);\n",
              "    fill: var(--disabled-fill-color);\n",
              "    box-shadow: none;\n",
              "  }\n",
              "\n",
              "  .colab-df-spinner {\n",
              "    border: 2px solid var(--fill-color);\n",
              "    border-color: transparent;\n",
              "    border-bottom-color: var(--fill-color);\n",
              "    animation:\n",
              "      spin 1s steps(1) infinite;\n",
              "  }\n",
              "\n",
              "  @keyframes spin {\n",
              "    0% {\n",
              "      border-color: transparent;\n",
              "      border-bottom-color: var(--fill-color);\n",
              "      border-left-color: var(--fill-color);\n",
              "    }\n",
              "    20% {\n",
              "      border-color: transparent;\n",
              "      border-left-color: var(--fill-color);\n",
              "      border-top-color: var(--fill-color);\n",
              "    }\n",
              "    30% {\n",
              "      border-color: transparent;\n",
              "      border-left-color: var(--fill-color);\n",
              "      border-top-color: var(--fill-color);\n",
              "      border-right-color: var(--fill-color);\n",
              "    }\n",
              "    40% {\n",
              "      border-color: transparent;\n",
              "      border-right-color: var(--fill-color);\n",
              "      border-top-color: var(--fill-color);\n",
              "    }\n",
              "    60% {\n",
              "      border-color: transparent;\n",
              "      border-right-color: var(--fill-color);\n",
              "    }\n",
              "    80% {\n",
              "      border-color: transparent;\n",
              "      border-right-color: var(--fill-color);\n",
              "      border-bottom-color: var(--fill-color);\n",
              "    }\n",
              "    90% {\n",
              "      border-color: transparent;\n",
              "      border-bottom-color: var(--fill-color);\n",
              "    }\n",
              "  }\n",
              "</style>\n",
              "\n",
              "  <script>\n",
              "    async function quickchart(key) {\n",
              "      const quickchartButtonEl =\n",
              "        document.querySelector('#' + key + ' button');\n",
              "      quickchartButtonEl.disabled = true;  // To prevent multiple clicks.\n",
              "      quickchartButtonEl.classList.add('colab-df-spinner');\n",
              "      try {\n",
              "        const charts = await google.colab.kernel.invokeFunction(\n",
              "            'suggestCharts', [key], {});\n",
              "      } catch (error) {\n",
              "        console.error('Error during call to suggestCharts:', error);\n",
              "      }\n",
              "      quickchartButtonEl.classList.remove('colab-df-spinner');\n",
              "      quickchartButtonEl.classList.add('colab-df-quickchart-complete');\n",
              "    }\n",
              "    (() => {\n",
              "      let quickchartButtonEl =\n",
              "        document.querySelector('#df-ed87f607-9104-402b-a6ab-d30662fe6fdd button');\n",
              "      quickchartButtonEl.style.display =\n",
              "        google.colab.kernel.accessAllowed ? 'block' : 'none';\n",
              "    })();\n",
              "  </script>\n",
              "</div>\n",
              "\n",
              "    </div>\n",
              "  </div>\n"
            ],
            "application/vnd.google.colaboratory.intrinsic+json": {
              "type": "dataframe"
            }
          },
          "metadata": {}
        }
      ],
      "source": [
        "display(train.head(3))\n",
        "display(test.head(3))"
      ]
    },
    {
      "cell_type": "code",
      "source": [
        "train.info()"
      ],
      "metadata": {
        "colab": {
          "base_uri": "https://localhost:8080/"
        },
        "id": "zC7Ey6q9fpyR",
        "outputId": "6a09b1b6-e84f-40e0-8078-4443f966999f"
      },
      "id": "zC7Ey6q9fpyR",
      "execution_count": 130,
      "outputs": [
        {
          "output_type": "stream",
          "name": "stdout",
          "text": [
            "<class 'pandas.core.frame.DataFrame'>\n",
            "RangeIndex: 20000 entries, 0 to 19999\n",
            "Data columns (total 23 columns):\n",
            " #   Column                  Non-Null Count  Dtype \n",
            "---  ------                  --------------  ----- \n",
            " 0   ID                      20000 non-null  object\n",
            " 1   Age                     20000 non-null  int64 \n",
            " 2   Gender                  20000 non-null  object\n",
            " 3   Education_Status        20000 non-null  object\n",
            " 4   Employment_Status       20000 non-null  object\n",
            " 5   Working_Week (Yearly)   20000 non-null  int64 \n",
            " 6   Industry_Status         20000 non-null  object\n",
            " 7   Occupation_Status       20000 non-null  object\n",
            " 8   Race                    20000 non-null  object\n",
            " 9   Hispanic_Origin         20000 non-null  object\n",
            " 10  Martial_Status          20000 non-null  object\n",
            " 11  Household_Status        20000 non-null  object\n",
            " 12  Household_Summary       20000 non-null  object\n",
            " 13  Citizenship             20000 non-null  object\n",
            " 14  Birth_Country           20000 non-null  object\n",
            " 15  Birth_Country (Father)  20000 non-null  object\n",
            " 16  Birth_Country (Mother)  20000 non-null  object\n",
            " 17  Tax_Status              20000 non-null  object\n",
            " 18  Gains                   20000 non-null  int64 \n",
            " 19  Losses                  20000 non-null  int64 \n",
            " 20  Dividends               20000 non-null  int64 \n",
            " 21  Income_Status           20000 non-null  object\n",
            " 22  Income                  20000 non-null  int64 \n",
            "dtypes: int64(6), object(17)\n",
            "memory usage: 3.5+ MB\n"
          ]
        }
      ]
    },
    {
      "cell_type": "code",
      "execution_count": 131,
      "id": "534b2bf7",
      "metadata": {
        "scrolled": true,
        "id": "534b2bf7",
        "outputId": "8e490638-b2da-4633-9b39-d932daf8b87f",
        "colab": {
          "base_uri": "https://localhost:8080/"
        }
      },
      "outputs": [
        {
          "output_type": "execute_result",
          "data": {
            "text/plain": [
              "ID                        0\n",
              "Age                       0\n",
              "Gender                    0\n",
              "Education_Status          0\n",
              "Employment_Status         0\n",
              "Working_Week (Yearly)     0\n",
              "Industry_Status           0\n",
              "Occupation_Status         0\n",
              "Race                      0\n",
              "Hispanic_Origin           0\n",
              "Martial_Status            0\n",
              "Household_Status          0\n",
              "Household_Summary         0\n",
              "Citizenship               0\n",
              "Birth_Country             0\n",
              "Birth_Country (Father)    0\n",
              "Birth_Country (Mother)    0\n",
              "Tax_Status                0\n",
              "Gains                     0\n",
              "Losses                    0\n",
              "Dividends                 0\n",
              "Income_Status             0\n",
              "Income                    0\n",
              "dtype: int64"
            ]
          },
          "metadata": {},
          "execution_count": 131
        }
      ],
      "source": [
        "train.isnull().sum()\n",
        "#train데이터에서는 결측값이 존재하지 않는다."
      ]
    },
    {
      "cell_type": "code",
      "execution_count": 132,
      "id": "1f7f07aa",
      "metadata": {
        "scrolled": true,
        "id": "1f7f07aa",
        "outputId": "32e2f14a-b0d2-41b5-95e6-79d33daf97c4",
        "colab": {
          "base_uri": "https://localhost:8080/"
        }
      },
      "outputs": [
        {
          "output_type": "execute_result",
          "data": {
            "text/plain": [
              "ID                        0\n",
              "Age                       0\n",
              "Gender                    0\n",
              "Education_Status          0\n",
              "Employment_Status         0\n",
              "Working_Week (Yearly)     0\n",
              "Industry_Status           0\n",
              "Occupation_Status         0\n",
              "Race                      0\n",
              "Hispanic_Origin           0\n",
              "Martial_Status            0\n",
              "Household_Status          1\n",
              "Household_Summary         0\n",
              "Citizenship               0\n",
              "Birth_Country             0\n",
              "Birth_Country (Father)    0\n",
              "Birth_Country (Mother)    0\n",
              "Tax_Status                0\n",
              "Gains                     0\n",
              "Losses                    0\n",
              "Dividends                 0\n",
              "Income_Status             0\n",
              "dtype: int64"
            ]
          },
          "metadata": {},
          "execution_count": 132
        }
      ],
      "source": [
        "test.isnull().sum()\n",
        "#test데이터에서는 1개 결측값을 보인다."
      ]
    },
    {
      "cell_type": "code",
      "execution_count": 133,
      "id": "6dd414d1",
      "metadata": {
        "id": "6dd414d1",
        "outputId": "38d45886-49a6-4974-9b74-ba214c7c5b33",
        "colab": {
          "base_uri": "https://localhost:8080/"
        }
      },
      "outputs": [
        {
          "output_type": "execute_result",
          "data": {
            "text/plain": [
              "(20000, 23)"
            ]
          },
          "metadata": {},
          "execution_count": 133
        }
      ],
      "source": [
        "train.shape"
      ]
    },
    {
      "cell_type": "code",
      "execution_count": 134,
      "id": "55425ade",
      "metadata": {
        "id": "55425ade",
        "outputId": "92138f5b-d0f6-4177-e7b9-4955bc47cfeb",
        "colab": {
          "base_uri": "https://localhost:8080/"
        }
      },
      "outputs": [
        {
          "output_type": "execute_result",
          "data": {
            "text/plain": [
              "(10000, 22)"
            ]
          },
          "metadata": {},
          "execution_count": 134
        }
      ],
      "source": [
        "test.shape"
      ]
    },
    {
      "cell_type": "code",
      "execution_count": 135,
      "id": "38a15be8",
      "metadata": {
        "id": "38a15be8"
      },
      "outputs": [],
      "source": [
        "# train에서는 결측값이 없고 test데이터 또한 결측값은 1개 뿐이기 때문에결측치 처리는 큰 논점이 아닌듯 싶습니다.\n",
        "# 이산형 변수가 매우 많아 이들을 전처리하는 과정이 매우 중요할 것으로 보입니다.\n",
        "# train데이터는 20000,23개이고 test데이터에는 10000,22로 Y값인 income값이 없는 모습입니다."
      ]
    },
    {
      "cell_type": "markdown",
      "id": "0b8f6466",
      "metadata": {
        "id": "0b8f6466"
      },
      "source": [
        "# 3. 데이터 전처리"
      ]
    },
    {
      "cell_type": "code",
      "source": [
        "train.info()"
      ],
      "metadata": {
        "colab": {
          "base_uri": "https://localhost:8080/"
        },
        "id": "plxgTXvN5JNY",
        "outputId": "d5be84c8-5543-47eb-b34a-b116b5215f6e"
      },
      "id": "plxgTXvN5JNY",
      "execution_count": 136,
      "outputs": [
        {
          "output_type": "stream",
          "name": "stdout",
          "text": [
            "<class 'pandas.core.frame.DataFrame'>\n",
            "RangeIndex: 20000 entries, 0 to 19999\n",
            "Data columns (total 23 columns):\n",
            " #   Column                  Non-Null Count  Dtype \n",
            "---  ------                  --------------  ----- \n",
            " 0   ID                      20000 non-null  object\n",
            " 1   Age                     20000 non-null  int64 \n",
            " 2   Gender                  20000 non-null  object\n",
            " 3   Education_Status        20000 non-null  object\n",
            " 4   Employment_Status       20000 non-null  object\n",
            " 5   Working_Week (Yearly)   20000 non-null  int64 \n",
            " 6   Industry_Status         20000 non-null  object\n",
            " 7   Occupation_Status       20000 non-null  object\n",
            " 8   Race                    20000 non-null  object\n",
            " 9   Hispanic_Origin         20000 non-null  object\n",
            " 10  Martial_Status          20000 non-null  object\n",
            " 11  Household_Status        20000 non-null  object\n",
            " 12  Household_Summary       20000 non-null  object\n",
            " 13  Citizenship             20000 non-null  object\n",
            " 14  Birth_Country           20000 non-null  object\n",
            " 15  Birth_Country (Father)  20000 non-null  object\n",
            " 16  Birth_Country (Mother)  20000 non-null  object\n",
            " 17  Tax_Status              20000 non-null  object\n",
            " 18  Gains                   20000 non-null  int64 \n",
            " 19  Losses                  20000 non-null  int64 \n",
            " 20  Dividends               20000 non-null  int64 \n",
            " 21  Income_Status           20000 non-null  object\n",
            " 22  Income                  20000 non-null  int64 \n",
            "dtypes: int64(6), object(17)\n",
            "memory usage: 3.5+ MB\n"
          ]
        }
      ]
    },
    {
      "cell_type": "code",
      "execution_count": 137,
      "id": "cf029b8d",
      "metadata": {
        "id": "cf029b8d",
        "outputId": "d9e79dba-1afc-44f3-d038-6d1c83bf0736",
        "colab": {
          "base_uri": "https://localhost:8080/",
          "height": 206
        }
      },
      "outputs": [
        {
          "output_type": "execute_result",
          "data": {
            "text/plain": [
              "   Age  Working_Week (Yearly)  Gains  Losses  Dividends  Income\n",
              "0   63                      4      0       0          0     425\n",
              "1   37                     52      0       0          0       0\n",
              "2   58                     52   3411       0          0     860\n",
              "3   44                     52      0       0          0     850\n",
              "4   37                     52      0       0          0     570"
            ],
            "text/html": [
              "\n",
              "  <div id=\"df-dd6ae3e9-92d6-40f5-abbe-690af2182740\" class=\"colab-df-container\">\n",
              "    <div>\n",
              "<style scoped>\n",
              "    .dataframe tbody tr th:only-of-type {\n",
              "        vertical-align: middle;\n",
              "    }\n",
              "\n",
              "    .dataframe tbody tr th {\n",
              "        vertical-align: top;\n",
              "    }\n",
              "\n",
              "    .dataframe thead th {\n",
              "        text-align: right;\n",
              "    }\n",
              "</style>\n",
              "<table border=\"1\" class=\"dataframe\">\n",
              "  <thead>\n",
              "    <tr style=\"text-align: right;\">\n",
              "      <th></th>\n",
              "      <th>Age</th>\n",
              "      <th>Working_Week (Yearly)</th>\n",
              "      <th>Gains</th>\n",
              "      <th>Losses</th>\n",
              "      <th>Dividends</th>\n",
              "      <th>Income</th>\n",
              "    </tr>\n",
              "  </thead>\n",
              "  <tbody>\n",
              "    <tr>\n",
              "      <th>0</th>\n",
              "      <td>63</td>\n",
              "      <td>4</td>\n",
              "      <td>0</td>\n",
              "      <td>0</td>\n",
              "      <td>0</td>\n",
              "      <td>425</td>\n",
              "    </tr>\n",
              "    <tr>\n",
              "      <th>1</th>\n",
              "      <td>37</td>\n",
              "      <td>52</td>\n",
              "      <td>0</td>\n",
              "      <td>0</td>\n",
              "      <td>0</td>\n",
              "      <td>0</td>\n",
              "    </tr>\n",
              "    <tr>\n",
              "      <th>2</th>\n",
              "      <td>58</td>\n",
              "      <td>52</td>\n",
              "      <td>3411</td>\n",
              "      <td>0</td>\n",
              "      <td>0</td>\n",
              "      <td>860</td>\n",
              "    </tr>\n",
              "    <tr>\n",
              "      <th>3</th>\n",
              "      <td>44</td>\n",
              "      <td>52</td>\n",
              "      <td>0</td>\n",
              "      <td>0</td>\n",
              "      <td>0</td>\n",
              "      <td>850</td>\n",
              "    </tr>\n",
              "    <tr>\n",
              "      <th>4</th>\n",
              "      <td>37</td>\n",
              "      <td>52</td>\n",
              "      <td>0</td>\n",
              "      <td>0</td>\n",
              "      <td>0</td>\n",
              "      <td>570</td>\n",
              "    </tr>\n",
              "  </tbody>\n",
              "</table>\n",
              "</div>\n",
              "    <div class=\"colab-df-buttons\">\n",
              "\n",
              "  <div class=\"colab-df-container\">\n",
              "    <button class=\"colab-df-convert\" onclick=\"convertToInteractive('df-dd6ae3e9-92d6-40f5-abbe-690af2182740')\"\n",
              "            title=\"Convert this dataframe to an interactive table.\"\n",
              "            style=\"display:none;\">\n",
              "\n",
              "  <svg xmlns=\"http://www.w3.org/2000/svg\" height=\"24px\" viewBox=\"0 -960 960 960\">\n",
              "    <path d=\"M120-120v-720h720v720H120Zm60-500h600v-160H180v160Zm220 220h160v-160H400v160Zm0 220h160v-160H400v160ZM180-400h160v-160H180v160Zm440 0h160v-160H620v160ZM180-180h160v-160H180v160Zm440 0h160v-160H620v160Z\"/>\n",
              "  </svg>\n",
              "    </button>\n",
              "\n",
              "  <style>\n",
              "    .colab-df-container {\n",
              "      display:flex;\n",
              "      gap: 12px;\n",
              "    }\n",
              "\n",
              "    .colab-df-convert {\n",
              "      background-color: #E8F0FE;\n",
              "      border: none;\n",
              "      border-radius: 50%;\n",
              "      cursor: pointer;\n",
              "      display: none;\n",
              "      fill: #1967D2;\n",
              "      height: 32px;\n",
              "      padding: 0 0 0 0;\n",
              "      width: 32px;\n",
              "    }\n",
              "\n",
              "    .colab-df-convert:hover {\n",
              "      background-color: #E2EBFA;\n",
              "      box-shadow: 0px 1px 2px rgba(60, 64, 67, 0.3), 0px 1px 3px 1px rgba(60, 64, 67, 0.15);\n",
              "      fill: #174EA6;\n",
              "    }\n",
              "\n",
              "    .colab-df-buttons div {\n",
              "      margin-bottom: 4px;\n",
              "    }\n",
              "\n",
              "    [theme=dark] .colab-df-convert {\n",
              "      background-color: #3B4455;\n",
              "      fill: #D2E3FC;\n",
              "    }\n",
              "\n",
              "    [theme=dark] .colab-df-convert:hover {\n",
              "      background-color: #434B5C;\n",
              "      box-shadow: 0px 1px 3px 1px rgba(0, 0, 0, 0.15);\n",
              "      filter: drop-shadow(0px 1px 2px rgba(0, 0, 0, 0.3));\n",
              "      fill: #FFFFFF;\n",
              "    }\n",
              "  </style>\n",
              "\n",
              "    <script>\n",
              "      const buttonEl =\n",
              "        document.querySelector('#df-dd6ae3e9-92d6-40f5-abbe-690af2182740 button.colab-df-convert');\n",
              "      buttonEl.style.display =\n",
              "        google.colab.kernel.accessAllowed ? 'block' : 'none';\n",
              "\n",
              "      async function convertToInteractive(key) {\n",
              "        const element = document.querySelector('#df-dd6ae3e9-92d6-40f5-abbe-690af2182740');\n",
              "        const dataTable =\n",
              "          await google.colab.kernel.invokeFunction('convertToInteractive',\n",
              "                                                    [key], {});\n",
              "        if (!dataTable) return;\n",
              "\n",
              "        const docLinkHtml = 'Like what you see? Visit the ' +\n",
              "          '<a target=\"_blank\" href=https://colab.research.google.com/notebooks/data_table.ipynb>data table notebook</a>'\n",
              "          + ' to learn more about interactive tables.';\n",
              "        element.innerHTML = '';\n",
              "        dataTable['output_type'] = 'display_data';\n",
              "        await google.colab.output.renderOutput(dataTable, element);\n",
              "        const docLink = document.createElement('div');\n",
              "        docLink.innerHTML = docLinkHtml;\n",
              "        element.appendChild(docLink);\n",
              "      }\n",
              "    </script>\n",
              "  </div>\n",
              "\n",
              "\n",
              "<div id=\"df-6d5987fa-da18-4c54-a2bc-5188d50ebed0\">\n",
              "  <button class=\"colab-df-quickchart\" onclick=\"quickchart('df-6d5987fa-da18-4c54-a2bc-5188d50ebed0')\"\n",
              "            title=\"Suggest charts\"\n",
              "            style=\"display:none;\">\n",
              "\n",
              "<svg xmlns=\"http://www.w3.org/2000/svg\" height=\"24px\"viewBox=\"0 0 24 24\"\n",
              "     width=\"24px\">\n",
              "    <g>\n",
              "        <path d=\"M19 3H5c-1.1 0-2 .9-2 2v14c0 1.1.9 2 2 2h14c1.1 0 2-.9 2-2V5c0-1.1-.9-2-2-2zM9 17H7v-7h2v7zm4 0h-2V7h2v10zm4 0h-2v-4h2v4z\"/>\n",
              "    </g>\n",
              "</svg>\n",
              "  </button>\n",
              "\n",
              "<style>\n",
              "  .colab-df-quickchart {\n",
              "      --bg-color: #E8F0FE;\n",
              "      --fill-color: #1967D2;\n",
              "      --hover-bg-color: #E2EBFA;\n",
              "      --hover-fill-color: #174EA6;\n",
              "      --disabled-fill-color: #AAA;\n",
              "      --disabled-bg-color: #DDD;\n",
              "  }\n",
              "\n",
              "  [theme=dark] .colab-df-quickchart {\n",
              "      --bg-color: #3B4455;\n",
              "      --fill-color: #D2E3FC;\n",
              "      --hover-bg-color: #434B5C;\n",
              "      --hover-fill-color: #FFFFFF;\n",
              "      --disabled-bg-color: #3B4455;\n",
              "      --disabled-fill-color: #666;\n",
              "  }\n",
              "\n",
              "  .colab-df-quickchart {\n",
              "    background-color: var(--bg-color);\n",
              "    border: none;\n",
              "    border-radius: 50%;\n",
              "    cursor: pointer;\n",
              "    display: none;\n",
              "    fill: var(--fill-color);\n",
              "    height: 32px;\n",
              "    padding: 0;\n",
              "    width: 32px;\n",
              "  }\n",
              "\n",
              "  .colab-df-quickchart:hover {\n",
              "    background-color: var(--hover-bg-color);\n",
              "    box-shadow: 0 1px 2px rgba(60, 64, 67, 0.3), 0 1px 3px 1px rgba(60, 64, 67, 0.15);\n",
              "    fill: var(--button-hover-fill-color);\n",
              "  }\n",
              "\n",
              "  .colab-df-quickchart-complete:disabled,\n",
              "  .colab-df-quickchart-complete:disabled:hover {\n",
              "    background-color: var(--disabled-bg-color);\n",
              "    fill: var(--disabled-fill-color);\n",
              "    box-shadow: none;\n",
              "  }\n",
              "\n",
              "  .colab-df-spinner {\n",
              "    border: 2px solid var(--fill-color);\n",
              "    border-color: transparent;\n",
              "    border-bottom-color: var(--fill-color);\n",
              "    animation:\n",
              "      spin 1s steps(1) infinite;\n",
              "  }\n",
              "\n",
              "  @keyframes spin {\n",
              "    0% {\n",
              "      border-color: transparent;\n",
              "      border-bottom-color: var(--fill-color);\n",
              "      border-left-color: var(--fill-color);\n",
              "    }\n",
              "    20% {\n",
              "      border-color: transparent;\n",
              "      border-left-color: var(--fill-color);\n",
              "      border-top-color: var(--fill-color);\n",
              "    }\n",
              "    30% {\n",
              "      border-color: transparent;\n",
              "      border-left-color: var(--fill-color);\n",
              "      border-top-color: var(--fill-color);\n",
              "      border-right-color: var(--fill-color);\n",
              "    }\n",
              "    40% {\n",
              "      border-color: transparent;\n",
              "      border-right-color: var(--fill-color);\n",
              "      border-top-color: var(--fill-color);\n",
              "    }\n",
              "    60% {\n",
              "      border-color: transparent;\n",
              "      border-right-color: var(--fill-color);\n",
              "    }\n",
              "    80% {\n",
              "      border-color: transparent;\n",
              "      border-right-color: var(--fill-color);\n",
              "      border-bottom-color: var(--fill-color);\n",
              "    }\n",
              "    90% {\n",
              "      border-color: transparent;\n",
              "      border-bottom-color: var(--fill-color);\n",
              "    }\n",
              "  }\n",
              "</style>\n",
              "\n",
              "  <script>\n",
              "    async function quickchart(key) {\n",
              "      const quickchartButtonEl =\n",
              "        document.querySelector('#' + key + ' button');\n",
              "      quickchartButtonEl.disabled = true;  // To prevent multiple clicks.\n",
              "      quickchartButtonEl.classList.add('colab-df-spinner');\n",
              "      try {\n",
              "        const charts = await google.colab.kernel.invokeFunction(\n",
              "            'suggestCharts', [key], {});\n",
              "      } catch (error) {\n",
              "        console.error('Error during call to suggestCharts:', error);\n",
              "      }\n",
              "      quickchartButtonEl.classList.remove('colab-df-spinner');\n",
              "      quickchartButtonEl.classList.add('colab-df-quickchart-complete');\n",
              "    }\n",
              "    (() => {\n",
              "      let quickchartButtonEl =\n",
              "        document.querySelector('#df-6d5987fa-da18-4c54-a2bc-5188d50ebed0 button');\n",
              "      quickchartButtonEl.style.display =\n",
              "        google.colab.kernel.accessAllowed ? 'block' : 'none';\n",
              "    })();\n",
              "  </script>\n",
              "</div>\n",
              "\n",
              "    </div>\n",
              "  </div>\n"
            ],
            "application/vnd.google.colaboratory.intrinsic+json": {
              "type": "dataframe",
              "variable_name": "train_int",
              "summary": "{\n  \"name\": \"train_int\",\n  \"rows\": 20000,\n  \"fields\": [\n    {\n      \"column\": \"Age\",\n      \"properties\": {\n        \"dtype\": \"number\",\n        \"std\": 17,\n        \"min\": 0,\n        \"max\": 90,\n        \"num_unique_values\": 91,\n        \"samples\": [\n          46,\n          39,\n          51\n        ],\n        \"semantic_type\": \"\",\n        \"description\": \"\"\n      }\n    },\n    {\n      \"column\": \"Working_Week (Yearly)\",\n      \"properties\": {\n        \"dtype\": \"number\",\n        \"std\": 22,\n        \"min\": 0,\n        \"max\": 52,\n        \"num_unique_values\": 53,\n        \"samples\": [\n          28,\n          10,\n          9\n        ],\n        \"semantic_type\": \"\",\n        \"description\": \"\"\n      }\n    },\n    {\n      \"column\": \"Gains\",\n      \"properties\": {\n        \"dtype\": \"number\",\n        \"std\": 4144,\n        \"min\": 0,\n        \"max\": 99999,\n        \"num_unique_values\": 106,\n        \"samples\": [\n          5721,\n          2174,\n          99999\n        ],\n        \"semantic_type\": \"\",\n        \"description\": \"\"\n      }\n    },\n    {\n      \"column\": \"Losses\",\n      \"properties\": {\n        \"dtype\": \"number\",\n        \"std\": 279,\n        \"min\": 0,\n        \"max\": 4356,\n        \"num_unique_values\": 86,\n        \"samples\": [\n          2603,\n          0,\n          2206\n        ],\n        \"semantic_type\": \"\",\n        \"description\": \"\"\n      }\n    },\n    {\n      \"column\": \"Dividends\",\n      \"properties\": {\n        \"dtype\": \"number\",\n        \"std\": 1206,\n        \"min\": 0,\n        \"max\": 45000,\n        \"num_unique_values\": 420,\n        \"samples\": [\n          675,\n          3068,\n          360\n        ],\n        \"semantic_type\": \"\",\n        \"description\": \"\"\n      }\n    },\n    {\n      \"column\": \"Income\",\n      \"properties\": {\n        \"dtype\": \"number\",\n        \"std\": 701,\n        \"min\": 0,\n        \"max\": 9999,\n        \"num_unique_values\": 1228,\n        \"samples\": [\n          747,\n          1149,\n          760\n        ],\n        \"semantic_type\": \"\",\n        \"description\": \"\"\n      }\n    }\n  ]\n}"
            }
          },
          "metadata": {},
          "execution_count": 137
        }
      ],
      "source": [
        "train_int = train[train.describe().columns]\n",
        "# 이산형 변수 추출\n",
        "train_str = train[train.columns.difference(train.describe().columns)]\n",
        "# 연속형 변수 추출\n",
        "train_int.head()"
      ]
    },
    {
      "cell_type": "markdown",
      "id": "cb496b76",
      "metadata": {
        "id": "cb496b76"
      },
      "source": [
        "### Gains 특정 이상치 제거"
      ]
    },
    {
      "cell_type": "code",
      "execution_count": 138,
      "id": "4f144969",
      "metadata": {
        "id": "4f144969",
        "outputId": "cc758248-b4bf-4c20-9dc2-79742ab0ac7f",
        "colab": {
          "base_uri": "https://localhost:8080/",
          "height": 407
        }
      },
      "outputs": [
        {
          "output_type": "display_data",
          "data": {
            "text/plain": [
              "<Figure size 1000x400 with 2 Axes>"
            ],
            "image/png": "[encoded data removed]"
          },
          "metadata": {}
        }
      ],
      "source": [
        "# 제거하기 전 Gains\n",
        "fig, axes = plt.subplots(1, 2, figsize=(10, 4))\n",
        "\n",
        "train['Gains'].hist(bins =  50,ax=axes[0])\n",
        "axes[0].set_title('Histogram')\n",
        "\n",
        "train['Gains'].plot(kind = 'box',ax=axes[1])\n",
        "axes[1].set_title('Boxplot')\n",
        "\n",
        "plt.tight_layout()\n",
        "\n",
        "# Show the plot\n",
        "plt.show()"
      ]
    },
    {
      "cell_type": "code",
      "source": [
        "train['Gains'].describe()"
      ],
      "metadata": {
        "colab": {
          "base_uri": "https://localhost:8080/"
        },
        "id": "LW9CrFCL6Z-r",
        "outputId": "5c251160-5326-41dd-a55d-d5d4ff8f8cf4"
      },
      "id": "LW9CrFCL6Z-r",
      "execution_count": 139,
      "outputs": [
        {
          "output_type": "execute_result",
          "data": {
            "text/plain": [
              "count    20000.000000\n",
              "mean       383.129500\n",
              "std       4144.247487\n",
              "min          0.000000\n",
              "25%          0.000000\n",
              "50%          0.000000\n",
              "75%          0.000000\n",
              "max      99999.000000\n",
              "Name: Gains, dtype: float64"
            ]
          },
          "metadata": {},
          "execution_count": 139
        }
      ]
    },
    {
      "cell_type": "code",
      "execution_count": 140,
      "id": "aec93caa",
      "metadata": {
        "id": "aec93caa"
      },
      "outputs": [],
      "source": [
        "# 99999이상의 값을 제거\n",
        "train = train[train['Gains'] < 99999 ]"
      ]
    },
    {
      "cell_type": "code",
      "execution_count": 141,
      "id": "5ae1f43b",
      "metadata": {
        "id": "5ae1f43b",
        "outputId": "4513ffbf-8f18-4b2d-b069-d4f09549b200",
        "colab": {
          "base_uri": "https://localhost:8080/",
          "height": 407
        }
      },
      "outputs": [
        {
          "output_type": "display_data",
          "data": {
            "text/plain": [
              "<Figure size 1000x400 with 2 Axes>"
            ],
            "image/png": "[encoded data removed]"
          },
          "metadata": {}
        }
      ],
      "source": [
        "#제거한 후 Gains 확인\n",
        "fig, axes = plt.subplots(1, 2, figsize=(10, 4))\n",
        "\n",
        "train['Gains'].hist(bins =  50,ax=axes[0])\n",
        "axes[0].set_title('Histogram')\n",
        "\n",
        "train['Gains'].plot(kind = 'box',ax=axes[1])\n",
        "axes[1].set_title('Boxplot')\n",
        "\n",
        "plt.tight_layout()\n",
        "\n",
        "# Show the plot\n",
        "plt.show()"
      ]
    },
    {
      "cell_type": "code",
      "source": [
        "train.info()"
      ],
      "metadata": {
        "colab": {
          "base_uri": "https://localhost:8080/"
        },
        "id": "J_4sSiYQ4BCf",
        "outputId": "3cb05f34-6bb3-4919-a5ad-2aa90309eae6"
      },
      "id": "J_4sSiYQ4BCf",
      "execution_count": 142,
      "outputs": [
        {
          "output_type": "stream",
          "name": "stdout",
          "text": [
            "<class 'pandas.core.frame.DataFrame'>\n",
            "Index: 19970 entries, 0 to 19999\n",
            "Data columns (total 23 columns):\n",
            " #   Column                  Non-Null Count  Dtype \n",
            "---  ------                  --------------  ----- \n",
            " 0   ID                      19970 non-null  object\n",
            " 1   Age                     19970 non-null  int64 \n",
            " 2   Gender                  19970 non-null  object\n",
            " 3   Education_Status        19970 non-null  object\n",
            " 4   Employment_Status       19970 non-null  object\n",
            " 5   Working_Week (Yearly)   19970 non-null  int64 \n",
            " 6   Industry_Status         19970 non-null  object\n",
            " 7   Occupation_Status       19970 non-null  object\n",
            " 8   Race                    19970 non-null  object\n",
            " 9   Hispanic_Origin         19970 non-null  object\n",
            " 10  Martial_Status          19970 non-null  object\n",
            " 11  Household_Status        19970 non-null  object\n",
            " 12  Household_Summary       19970 non-null  object\n",
            " 13  Citizenship             19970 non-null  object\n",
            " 14  Birth_Country           19970 non-null  object\n",
            " 15  Birth_Country (Father)  19970 non-null  object\n",
            " 16  Birth_Country (Mother)  19970 non-null  object\n",
            " 17  Tax_Status              19970 non-null  object\n",
            " 18  Gains                   19970 non-null  int64 \n",
            " 19  Losses                  19970 non-null  int64 \n",
            " 20  Dividends               19970 non-null  int64 \n",
            " 21  Income_Status           19970 non-null  object\n",
            " 22  Income                  19970 non-null  int64 \n",
            "dtypes: int64(6), object(17)\n",
            "memory usage: 3.7+ MB\n"
          ]
        }
      ]
    },
    {
      "cell_type": "markdown",
      "source": [
        "#Losses 이상치 제거"
      ],
      "metadata": {
        "id": "l0cblE0G7XoW"
      },
      "id": "l0cblE0G7XoW"
    },
    {
      "cell_type": "code",
      "source": [
        "fig, axes = plt.subplots(1, 2, figsize=(10, 4))\n",
        "\n",
        "train['Losses'].hist(bins =  50,ax=axes[0])\n",
        "axes[0].set_title('Histogram')\n",
        "\n",
        "train['Losses'].plot(kind = 'box',ax=axes[1])\n",
        "axes[1].set_title('Boxplot')\n",
        "\n",
        "plt.tight_layout()\n",
        "\n",
        "# Show the plot\n",
        "plt.show()"
      ],
      "metadata": {
        "colab": {
          "base_uri": "https://localhost:8080/",
          "height": 407
        },
        "id": "A6MrBxAN7c9n",
        "outputId": "ff85a779-1e0e-4ada-912b-e3eff7d60c81"
      },
      "id": "A6MrBxAN7c9n",
      "execution_count": 143,
      "outputs": [
        {
          "output_type": "display_data",
          "data": {
            "text/plain": [
              "<Figure size 1000x400 with 2 Axes>"
            ],
            "image/png": "[encoded data removed]"
          },
          "metadata": {}
        }
      ]
    },
    {
      "cell_type": "code",
      "source": [
        "train['Losses'].describe()"
      ],
      "metadata": {
        "colab": {
          "base_uri": "https://localhost:8080/"
        },
        "id": "Jy0_cJL37k7n",
        "outputId": "3970fc54-e717-4d28-a667-b2636ee6eb4b"
      },
      "id": "Jy0_cJL37k7n",
      "execution_count": 144,
      "outputs": [
        {
          "output_type": "execute_result",
          "data": {
            "text/plain": [
              "count    19970.000000\n",
              "mean        40.262544\n",
              "std        279.387958\n",
              "min          0.000000\n",
              "25%          0.000000\n",
              "50%          0.000000\n",
              "75%          0.000000\n",
              "max       4356.000000\n",
              "Name: Losses, dtype: float64"
            ]
          },
          "metadata": {},
          "execution_count": 144
        }
      ]
    },
    {
      "cell_type": "code",
      "source": [
        "train = train[train['Losses'] < 3000 ]"
      ],
      "metadata": {
        "id": "C37VAu177oDZ"
      },
      "id": "C37VAu177oDZ",
      "execution_count": 145,
      "outputs": []
    },
    {
      "cell_type": "code",
      "source": [
        "fig, axes = plt.subplots(1, 2, figsize=(10, 4))\n",
        "\n",
        "train['Losses'].hist(bins =  50,ax=axes[0])\n",
        "axes[0].set_title('Histogram')\n",
        "\n",
        "train['Losses'].plot(kind = 'box',ax=axes[1])\n",
        "axes[1].set_title('Boxplot')\n",
        "\n",
        "plt.tight_layout()\n",
        "\n",
        "# Show the plot\n",
        "plt.show()"
      ],
      "metadata": {
        "colab": {
          "base_uri": "https://localhost:8080/",
          "height": 407
        },
        "id": "zSkqMJzJ7rgq",
        "outputId": "0e31efa6-133d-44ca-fb03-06729811b620"
      },
      "id": "zSkqMJzJ7rgq",
      "execution_count": 146,
      "outputs": [
        {
          "output_type": "display_data",
          "data": {
            "text/plain": [
              "<Figure size 1000x400 with 2 Axes>"
            ],
            "image/png": "[encoded data removed]"
          },
          "metadata": {}
        }
      ]
    },
    {
      "cell_type": "code",
      "source": [
        "train.info()"
      ],
      "metadata": {
        "colab": {
          "base_uri": "https://localhost:8080/"
        },
        "id": "Vp6QeN3E8KHp",
        "outputId": "081a5c89-7e4c-4714-c117-e680837dc071"
      },
      "id": "Vp6QeN3E8KHp",
      "execution_count": 147,
      "outputs": [
        {
          "output_type": "stream",
          "name": "stdout",
          "text": [
            "<class 'pandas.core.frame.DataFrame'>\n",
            "Index: 19965 entries, 0 to 19999\n",
            "Data columns (total 23 columns):\n",
            " #   Column                  Non-Null Count  Dtype \n",
            "---  ------                  --------------  ----- \n",
            " 0   ID                      19965 non-null  object\n",
            " 1   Age                     19965 non-null  int64 \n",
            " 2   Gender                  19965 non-null  object\n",
            " 3   Education_Status        19965 non-null  object\n",
            " 4   Employment_Status       19965 non-null  object\n",
            " 5   Working_Week (Yearly)   19965 non-null  int64 \n",
            " 6   Industry_Status         19965 non-null  object\n",
            " 7   Occupation_Status       19965 non-null  object\n",
            " 8   Race                    19965 non-null  object\n",
            " 9   Hispanic_Origin         19965 non-null  object\n",
            " 10  Martial_Status          19965 non-null  object\n",
            " 11  Household_Status        19965 non-null  object\n",
            " 12  Household_Summary       19965 non-null  object\n",
            " 13  Citizenship             19965 non-null  object\n",
            " 14  Birth_Country           19965 non-null  object\n",
            " 15  Birth_Country (Father)  19965 non-null  object\n",
            " 16  Birth_Country (Mother)  19965 non-null  object\n",
            " 17  Tax_Status              19965 non-null  object\n",
            " 18  Gains                   19965 non-null  int64 \n",
            " 19  Losses                  19965 non-null  int64 \n",
            " 20  Dividends               19965 non-null  int64 \n",
            " 21  Income_Status           19965 non-null  object\n",
            " 22  Income                  19965 non-null  int64 \n",
            "dtypes: int64(6), object(17)\n",
            "memory usage: 3.7+ MB\n"
          ]
        }
      ]
    },
    {
      "cell_type": "markdown",
      "source": [
        "# Income 특정 이상치 제거"
      ],
      "metadata": {
        "id": "3M_kuVaF6WJV"
      },
      "id": "3M_kuVaF6WJV"
    },
    {
      "cell_type": "code",
      "source": [
        "fig, axes = plt.subplots(1, 2, figsize=(10, 4))\n",
        "\n",
        "train['Income'].hist(bins =  50,ax=axes[0])\n",
        "axes[0].set_title('Histogram')\n",
        "\n",
        "train['Income'].plot(kind = 'box',ax=axes[1])\n",
        "axes[1].set_title('Boxplot')\n",
        "\n",
        "plt.tight_layout()\n",
        "\n",
        "# Show the plot\n",
        "plt.show()"
      ],
      "metadata": {
        "colab": {
          "base_uri": "https://localhost:8080/",
          "height": 407
        },
        "id": "inKChN4E7zUX",
        "outputId": "d92d3152-250a-4ba8-dc36-9ed4a87a3123"
      },
      "id": "inKChN4E7zUX",
      "execution_count": 148,
      "outputs": [
        {
          "output_type": "display_data",
          "data": {
            "text/plain": [
              "<Figure size 1000x400 with 2 Axes>"
            ],
            "image/png": "[encoded data removed]"
          },
          "metadata": {}
        }
      ]
    },
    {
      "cell_type": "code",
      "source": [
        "train['Income'].describe()"
      ],
      "metadata": {
        "colab": {
          "base_uri": "https://localhost:8080/"
        },
        "id": "Zz41qVqc8kfr",
        "outputId": "b9a69cd1-f8db-4e41-84dc-43dcbb6d1caf"
      },
      "id": "Zz41qVqc8kfr",
      "execution_count": 149,
      "outputs": [
        {
          "output_type": "execute_result",
          "data": {
            "text/plain": [
              "count    19965.000000\n",
              "mean       554.898573\n",
              "std        701.611852\n",
              "min          0.000000\n",
              "25%          0.000000\n",
              "50%        500.000000\n",
              "75%        875.000000\n",
              "max       9999.000000\n",
              "Name: Income, dtype: float64"
            ]
          },
          "metadata": {},
          "execution_count": 149
        }
      ]
    },
    {
      "cell_type": "code",
      "source": [
        "train.loc[train['Income'] >= 2500, 'Income'] = 2500"
      ],
      "metadata": {
        "id": "8_x38lwc39Hp"
      },
      "id": "8_x38lwc39Hp",
      "execution_count": 150,
      "outputs": []
    },
    {
      "cell_type": "code",
      "source": [
        "train['Income'].describe()"
      ],
      "metadata": {
        "colab": {
          "base_uri": "https://localhost:8080/"
        },
        "id": "RCbtihV8ANpI",
        "outputId": "8dcbaaae-36c1-4526-a526-c12e8b200d75"
      },
      "id": "RCbtihV8ANpI",
      "execution_count": 175,
      "outputs": [
        {
          "output_type": "execute_result",
          "data": {
            "text/plain": [
              "count    19941.000000\n",
              "mean       538.836768\n",
              "std        602.854719\n",
              "min          0.000000\n",
              "25%          0.000000\n",
              "50%        500.000000\n",
              "75%        875.000000\n",
              "max       2500.000000\n",
              "Name: Income, dtype: float64"
            ]
          },
          "metadata": {},
          "execution_count": 175
        }
      ]
    },
    {
      "cell_type": "code",
      "source": [
        "fig, axes = plt.subplots(1, 2, figsize=(10, 4))\n",
        "\n",
        "train['Income'].hist(bins =  50,ax=axes[0])\n",
        "axes[0].set_title('Histogram')\n",
        "\n",
        "train['Income'].plot(kind = 'box',ax=axes[1])\n",
        "axes[1].set_title('Boxplot')\n",
        "\n",
        "plt.tight_layout()\n",
        "\n",
        "# Show the plot\n",
        "plt.show()"
      ],
      "metadata": {
        "colab": {
          "base_uri": "https://localhost:8080/",
          "height": 407
        },
        "id": "tqbw2rmO385U",
        "outputId": "022709c3-1746-4887-e124-c2729289cf3d"
      },
      "id": "tqbw2rmO385U",
      "execution_count": 151,
      "outputs": [
        {
          "output_type": "display_data",
          "data": {
            "text/plain": [
              "<Figure size 1000x400 with 2 Axes>"
            ],
            "image/png": "[encoded data removed]"
          },
          "metadata": {}
        }
      ]
    },
    {
      "cell_type": "code",
      "source": [
        "train.info()"
      ],
      "metadata": {
        "colab": {
          "base_uri": "https://localhost:8080/"
        },
        "id": "rzKCL2sg382h",
        "outputId": "80b1b970-d9d9-4f01-d00d-2724805dc50f"
      },
      "id": "rzKCL2sg382h",
      "execution_count": 152,
      "outputs": [
        {
          "output_type": "stream",
          "name": "stdout",
          "text": [
            "<class 'pandas.core.frame.DataFrame'>\n",
            "Index: 19965 entries, 0 to 19999\n",
            "Data columns (total 23 columns):\n",
            " #   Column                  Non-Null Count  Dtype \n",
            "---  ------                  --------------  ----- \n",
            " 0   ID                      19965 non-null  object\n",
            " 1   Age                     19965 non-null  int64 \n",
            " 2   Gender                  19965 non-null  object\n",
            " 3   Education_Status        19965 non-null  object\n",
            " 4   Employment_Status       19965 non-null  object\n",
            " 5   Working_Week (Yearly)   19965 non-null  int64 \n",
            " 6   Industry_Status         19965 non-null  object\n",
            " 7   Occupation_Status       19965 non-null  object\n",
            " 8   Race                    19965 non-null  object\n",
            " 9   Hispanic_Origin         19965 non-null  object\n",
            " 10  Martial_Status          19965 non-null  object\n",
            " 11  Household_Status        19965 non-null  object\n",
            " 12  Household_Summary       19965 non-null  object\n",
            " 13  Citizenship             19965 non-null  object\n",
            " 14  Birth_Country           19965 non-null  object\n",
            " 15  Birth_Country (Father)  19965 non-null  object\n",
            " 16  Birth_Country (Mother)  19965 non-null  object\n",
            " 17  Tax_Status              19965 non-null  object\n",
            " 18  Gains                   19965 non-null  int64 \n",
            " 19  Losses                  19965 non-null  int64 \n",
            " 20  Dividends               19965 non-null  int64 \n",
            " 21  Income_Status           19965 non-null  object\n",
            " 22  Income                  19965 non-null  int64 \n",
            "dtypes: int64(6), object(17)\n",
            "memory usage: 3.7+ MB\n"
          ]
        }
      ]
    },
    {
      "cell_type": "markdown",
      "source": [
        "#Dividends 이상치제거\n"
      ],
      "metadata": {
        "id": "0Ds1G69C-5HQ"
      },
      "id": "0Ds1G69C-5HQ"
    },
    {
      "cell_type": "code",
      "source": [
        "fig, axes = plt.subplots(1, 2, figsize=(10, 4))\n",
        "\n",
        "train['Dividends'].hist(bins =  50,ax=axes[0])\n",
        "axes[0].set_title('Histogram')\n",
        "\n",
        "train['Dividends'].plot(kind = 'box',ax=axes[1])\n",
        "axes[1].set_title('Boxplot')\n",
        "\n",
        "plt.tight_layout()\n",
        "\n",
        "# Show the plot\n",
        "plt.show()"
      ],
      "metadata": {
        "colab": {
          "base_uri": "https://localhost:8080/",
          "height": 407
        },
        "id": "KaU4b3Wf_AnD",
        "outputId": "cccfbb33-29e5-4304-e897-daba2154def5"
      },
      "id": "KaU4b3Wf_AnD",
      "execution_count": 153,
      "outputs": [
        {
          "output_type": "display_data",
          "data": {
            "text/plain": [
              "<Figure size 1000x400 with 2 Axes>"
            ],
            "image/png": "[encoded data removed]"
          },
          "metadata": {}
        }
      ]
    },
    {
      "cell_type": "code",
      "source": [
        "train['Dividends'].describe()"
      ],
      "metadata": {
        "colab": {
          "base_uri": "https://localhost:8080/"
        },
        "id": "C2MzmK8F_NhN",
        "outputId": "c82c9c83-a17d-4172-bfe4-4f6838ecd719"
      },
      "id": "C2MzmK8F_NhN",
      "execution_count": 154,
      "outputs": [
        {
          "output_type": "execute_result",
          "data": {
            "text/plain": [
              "count    19965.000000\n",
              "mean       121.319209\n",
              "std       1192.657494\n",
              "min          0.000000\n",
              "25%          0.000000\n",
              "50%          0.000000\n",
              "75%          0.000000\n",
              "max      45000.000000\n",
              "Name: Dividends, dtype: float64"
            ]
          },
          "metadata": {},
          "execution_count": 154
        }
      ]
    },
    {
      "cell_type": "code",
      "source": [
        "train = train[train['Dividends'] < 15000 ]"
      ],
      "metadata": {
        "id": "AMki8hDe_Nd3"
      },
      "id": "AMki8hDe_Nd3",
      "execution_count": 155,
      "outputs": []
    },
    {
      "cell_type": "code",
      "source": [
        "fig, axes = plt.subplots(1, 2, figsize=(10, 4))\n",
        "\n",
        "train['Dividends'].hist(bins =  50,ax=axes[0])\n",
        "axes[0].set_title('Histogram')\n",
        "\n",
        "train['Dividends'].plot(kind = 'box',ax=axes[1])\n",
        "axes[1].set_title('Boxplot')\n",
        "\n",
        "plt.tight_layout()\n",
        "\n",
        "# Show the plot\n",
        "plt.show()"
      ],
      "metadata": {
        "colab": {
          "base_uri": "https://localhost:8080/",
          "height": 407
        },
        "id": "H5-rQbXk_YfP",
        "outputId": "506ec8a4-b149-404e-8fb7-bd96e8abf71d"
      },
      "id": "H5-rQbXk_YfP",
      "execution_count": 156,
      "outputs": [
        {
          "output_type": "display_data",
          "data": {
            "text/plain": [
              "<Figure size 1000x400 with 2 Axes>"
            ],
            "image/png": "[encoded data removed]"
          },
          "metadata": {}
        }
      ]
    },
    {
      "cell_type": "code",
      "source": [
        "train.info()"
      ],
      "metadata": {
        "colab": {
          "base_uri": "https://localhost:8080/"
        },
        "id": "gUaMe3rM_eGD",
        "outputId": "36b7b5b0-e912-49df-fca6-9f0ecf6cf7ae"
      },
      "id": "gUaMe3rM_eGD",
      "execution_count": 157,
      "outputs": [
        {
          "output_type": "stream",
          "name": "stdout",
          "text": [
            "<class 'pandas.core.frame.DataFrame'>\n",
            "Index: 19941 entries, 0 to 19999\n",
            "Data columns (total 23 columns):\n",
            " #   Column                  Non-Null Count  Dtype \n",
            "---  ------                  --------------  ----- \n",
            " 0   ID                      19941 non-null  object\n",
            " 1   Age                     19941 non-null  int64 \n",
            " 2   Gender                  19941 non-null  object\n",
            " 3   Education_Status        19941 non-null  object\n",
            " 4   Employment_Status       19941 non-null  object\n",
            " 5   Working_Week (Yearly)   19941 non-null  int64 \n",
            " 6   Industry_Status         19941 non-null  object\n",
            " 7   Occupation_Status       19941 non-null  object\n",
            " 8   Race                    19941 non-null  object\n",
            " 9   Hispanic_Origin         19941 non-null  object\n",
            " 10  Martial_Status          19941 non-null  object\n",
            " 11  Household_Status        19941 non-null  object\n",
            " 12  Household_Summary       19941 non-null  object\n",
            " 13  Citizenship             19941 non-null  object\n",
            " 14  Birth_Country           19941 non-null  object\n",
            " 15  Birth_Country (Father)  19941 non-null  object\n",
            " 16  Birth_Country (Mother)  19941 non-null  object\n",
            " 17  Tax_Status              19941 non-null  object\n",
            " 18  Gains                   19941 non-null  int64 \n",
            " 19  Losses                  19941 non-null  int64 \n",
            " 20  Dividends               19941 non-null  int64 \n",
            " 21  Income_Status           19941 non-null  object\n",
            " 22  Income                  19941 non-null  int64 \n",
            "dtypes: int64(6), object(17)\n",
            "memory usage: 3.7+ MB\n"
          ]
        }
      ]
    },
    {
      "cell_type": "markdown",
      "id": "523f6e2a",
      "metadata": {
        "id": "523f6e2a"
      },
      "source": [
        "### 결측값 변환"
      ]
    },
    {
      "cell_type": "code",
      "execution_count": 158,
      "id": "40893a0d",
      "metadata": {
        "id": "40893a0d",
        "outputId": "9cd401b8-e34b-4a8d-9cc4-6cf9d032b421",
        "colab": {
          "base_uri": "https://localhost:8080/"
        }
      },
      "outputs": [
        {
          "output_type": "execute_result",
          "data": {
            "text/plain": [
              "Household_Status\n",
              "Householder                                                               3128\n",
              "Spouse of householder                                                     2418\n",
              "Child <18 never marr not in subfamily                                     1290\n",
              "Nonfamily householder                                                     1191\n",
              "Child 18+ never marr Not in a subfamily                                    910\n",
              "Secondary individual                                                       415\n",
              "Other Rel 18+ never marr not in subfamily                                  110\n",
              "Other Rel 18+ ever marr not in subfamily                                    78\n",
              "Child 18+ ever marr Not in a subfamily                                      63\n",
              "Child 18+ ever married Responsible Person of subfamily                      57\n",
              "Responsible Person of unrelated subfamily                                   38\n",
              "Grandchild <18 never marr not in subfamily                                  37\n",
              "Other Relative 18+ spouse of subfamily Responsible Person                   35\n",
              "Child 18+ never married Responsible Person of subfamily                     35\n",
              "Other Relative 18+ ever married Responsible Person of subfamily             35\n",
              "Grandchild <18 never married child of subfamily Responsible Person          33\n",
              "Grandchild 18+ never marr not in subfamily                                  32\n",
              "Child under 18 of Responsible Person of unrelated subfamily                 23\n",
              "Other Relative <18 never married child of subfamily Responsible Person      18\n",
              "Other Rel <18 never marr not in subfamily                                   14\n",
              "In group quarters                                                           10\n",
              "Other Relative 18+ never married Responsible Person of subfamily            10\n",
              "Spouse of Responsible Person of unrelated subfamily                          6\n",
              "Grandchild 18+ ever marr not in subfamily                                    5\n",
              "Child 18+ spouse of subfamily Responsible Person                             4\n",
              "Child <18 never married Responsible Person of subfamily                      3\n",
              "Child <18 ever marr not in subfamily                                         1\n",
              "Name: count, dtype: int64"
            ]
          },
          "metadata": {},
          "execution_count": 158
        }
      ],
      "source": [
        "test['Household_Status'].value_counts()"
      ]
    },
    {
      "cell_type": "code",
      "execution_count": 159,
      "id": "3f4df697",
      "metadata": {
        "id": "3f4df697",
        "outputId": "3ad814dd-57fe-4a6c-bd41-a69e694eebb8",
        "colab": {
          "base_uri": "https://localhost:8080/"
        }
      },
      "outputs": [
        {
          "output_type": "execute_result",
          "data": {
            "text/plain": [
              "ID                        0\n",
              "Age                       0\n",
              "Gender                    0\n",
              "Education_Status          0\n",
              "Employment_Status         0\n",
              "Working_Week (Yearly)     0\n",
              "Industry_Status           0\n",
              "Occupation_Status         0\n",
              "Race                      0\n",
              "Hispanic_Origin           0\n",
              "Martial_Status            0\n",
              "Household_Status          0\n",
              "Household_Summary         0\n",
              "Citizenship               0\n",
              "Birth_Country             0\n",
              "Birth_Country (Father)    0\n",
              "Birth_Country (Mother)    0\n",
              "Tax_Status                0\n",
              "Gains                     0\n",
              "Losses                    0\n",
              "Dividends                 0\n",
              "Income_Status             0\n",
              "dtype: int64"
            ]
          },
          "metadata": {},
          "execution_count": 159
        }
      ],
      "source": [
        "test['Household_Status'] = test['Household_Status'].fillna('Householder')\n",
        "# test데이터 결측값이 있기 때문에 해당 컬럼에서 최빈값인 Householder으로 결측값 채움\n",
        "test.isnull().sum()"
      ]
    },
    {
      "cell_type": "markdown",
      "id": "1f479289",
      "metadata": {
        "id": "1f479289"
      },
      "source": [
        "### 문자열 변환"
      ]
    },
    {
      "cell_type": "code",
      "source": [
        "train_x = train.drop(columns=['ID', 'Income'])\n",
        "train_y = train['Income']\n",
        "\n",
        "test_x = test.drop(columns=['ID'])"
      ],
      "metadata": {
        "id": "JLSFtUeG-pPj"
      },
      "id": "JLSFtUeG-pPj",
      "execution_count": 160,
      "outputs": []
    },
    {
      "cell_type": "code",
      "execution_count": 161,
      "id": "2832a207",
      "metadata": {
        "id": "2832a207"
      },
      "outputs": [],
      "source": [
        "from sklearn.preprocessing import LabelEncoder\n",
        "# train_x와 test_x 변수들을 숫자형으로 인코딩\n",
        "\n",
        "encoding_target = list(train_x.dtypes[train_x.dtypes == \"object\"].index)\n",
        "\n",
        "for i in encoding_target:\n",
        "    le = LabelEncoder()\n",
        "\n",
        "    # train과 test 데이터셋에서 해당 열의 모든 값을 문자열로 변환\n",
        "    train_x[i] = train_x[i].astype(str)\n",
        "    test_x[i] = test_x[i].astype(str)\n",
        "\n",
        "    le.fit(train_x[i])\n",
        "    train_x[i] = le.transform(train_x[i])\n",
        "\n",
        "    # test 데이터의 새로운 카테고리에 대해 le.classes_ 배열에 추가\n",
        "    for case in np.unique(test_x[i]):\n",
        "        if case not in le.classes_:\n",
        "            le.classes_ = np.append(le.classes_, case)\n",
        "\n",
        "    test_x[i] = le.transform(test_x[i])"
      ]
    },
    {
      "cell_type": "markdown",
      "id": "40aa091f",
      "metadata": {
        "id": "40aa091f"
      },
      "source": [
        "# 4. 데이터 탐색 및 시각화"
      ]
    },
    {
      "cell_type": "code",
      "execution_count": 162,
      "id": "c13f21ca",
      "metadata": {
        "id": "c13f21ca",
        "outputId": "c5010472-9194-4bdc-a76d-7bd328739eb4",
        "colab": {
          "base_uri": "https://localhost:8080/",
          "height": 300
        }
      },
      "outputs": [
        {
          "output_type": "execute_result",
          "data": {
            "text/plain": [
              "                Age  Working_Week (Yearly)         Gains        Losses  \\\n",
              "count  20000.000000           20000.000000  20000.000000  20000.000000   \n",
              "mean      35.632500              34.943050    383.129500     40.202150   \n",
              "std       17.994414              22.254592   4144.247487    279.182677   \n",
              "min        0.000000               0.000000      0.000000      0.000000   \n",
              "25%       23.000000               7.000000      0.000000      0.000000   \n",
              "50%       34.000000              52.000000      0.000000      0.000000   \n",
              "75%       47.000000              52.000000      0.000000      0.000000   \n",
              "max       90.000000              52.000000  99999.000000   4356.000000   \n",
              "\n",
              "          Dividends        Income  \n",
              "count  20000.000000  20000.000000  \n",
              "mean     123.451450    554.565250  \n",
              "std     1206.949429    701.553155  \n",
              "min        0.000000      0.000000  \n",
              "25%        0.000000      0.000000  \n",
              "50%        0.000000    500.000000  \n",
              "75%        0.000000    875.000000  \n",
              "max    45000.000000   9999.000000  "
            ],
            "text/html": [
              "\n",
              "  <div id=\"df-e1e86426-d895-4765-acb0-f891cf820e70\" class=\"colab-df-container\">\n",
              "    <div>\n",
              "<style scoped>\n",
              "    .dataframe tbody tr th:only-of-type {\n",
              "        vertical-align: middle;\n",
              "    }\n",
              "\n",
              "    .dataframe tbody tr th {\n",
              "        vertical-align: top;\n",
              "    }\n",
              "\n",
              "    .dataframe thead th {\n",
              "        text-align: right;\n",
              "    }\n",
              "</style>\n",
              "<table border=\"1\" class=\"dataframe\">\n",
              "  <thead>\n",
              "    <tr style=\"text-align: right;\">\n",
              "      <th></th>\n",
              "      <th>Age</th>\n",
              "      <th>Working_Week (Yearly)</th>\n",
              "      <th>Gains</th>\n",
              "      <th>Losses</th>\n",
              "      <th>Dividends</th>\n",
              "      <th>Income</th>\n",
              "    </tr>\n",
              "  </thead>\n",
              "  <tbody>\n",
              "    <tr>\n",
              "      <th>count</th>\n",
              "      <td>20000.000000</td>\n",
              "      <td>20000.000000</td>\n",
              "      <td>20000.000000</td>\n",
              "      <td>20000.000000</td>\n",
              "      <td>20000.000000</td>\n",
              "      <td>20000.000000</td>\n",
              "    </tr>\n",
              "    <tr>\n",
              "      <th>mean</th>\n",
              "      <td>35.632500</td>\n",
              "      <td>34.943050</td>\n",
              "      <td>383.129500</td>\n",
              "      <td>40.202150</td>\n",
              "      <td>123.451450</td>\n",
              "      <td>554.565250</td>\n",
              "    </tr>\n",
              "    <tr>\n",
              "      <th>std</th>\n",
              "      <td>17.994414</td>\n",
              "      <td>22.254592</td>\n",
              "      <td>4144.247487</td>\n",
              "      <td>279.182677</td>\n",
              "      <td>1206.949429</td>\n",
              "      <td>701.553155</td>\n",
              "    </tr>\n",
              "    <tr>\n",
              "      <th>min</th>\n",
              "      <td>0.000000</td>\n",
              "      <td>0.000000</td>\n",
              "      <td>0.000000</td>\n",
              "      <td>0.000000</td>\n",
              "      <td>0.000000</td>\n",
              "      <td>0.000000</td>\n",
              "    </tr>\n",
              "    <tr>\n",
              "      <th>25%</th>\n",
              "      <td>23.000000</td>\n",
              "      <td>7.000000</td>\n",
              "      <td>0.000000</td>\n",
              "      <td>0.000000</td>\n",
              "      <td>0.000000</td>\n",
              "      <td>0.000000</td>\n",
              "    </tr>\n",
              "    <tr>\n",
              "      <th>50%</th>\n",
              "      <td>34.000000</td>\n",
              "      <td>52.000000</td>\n",
              "      <td>0.000000</td>\n",
              "      <td>0.000000</td>\n",
              "      <td>0.000000</td>\n",
              "      <td>500.000000</td>\n",
              "    </tr>\n",
              "    <tr>\n",
              "      <th>75%</th>\n",
              "      <td>47.000000</td>\n",
              "      <td>52.000000</td>\n",
              "      <td>0.000000</td>\n",
              "      <td>0.000000</td>\n",
              "      <td>0.000000</td>\n",
              "      <td>875.000000</td>\n",
              "    </tr>\n",
              "    <tr>\n",
              "      <th>max</th>\n",
              "      <td>90.000000</td>\n",
              "      <td>52.000000</td>\n",
              "      <td>99999.000000</td>\n",
              "      <td>4356.000000</td>\n",
              "      <td>45000.000000</td>\n",
              "      <td>9999.000000</td>\n",
              "    </tr>\n",
              "  </tbody>\n",
              "</table>\n",
              "</div>\n",
              "    <div class=\"colab-df-buttons\">\n",
              "\n",
              "  <div class=\"colab-df-container\">\n",
              "    <button class=\"colab-df-convert\" onclick=\"convertToInteractive('df-e1e86426-d895-4765-acb0-f891cf820e70')\"\n",
              "            title=\"Convert this dataframe to an interactive table.\"\n",
              "            style=\"display:none;\">\n",
              "\n",
              "  <svg xmlns=\"http://www.w3.org/2000/svg\" height=\"24px\" viewBox=\"0 -960 960 960\">\n",
              "    <path d=\"M120-120v-720h720v720H120Zm60-500h600v-160H180v160Zm220 220h160v-160H400v160Zm0 220h160v-160H400v160ZM180-400h160v-160H180v160Zm440 0h160v-160H620v160ZM180-180h160v-160H180v160Zm440 0h160v-160H620v160Z\"/>\n",
              "  </svg>\n",
              "    </button>\n",
              "\n",
              "  <style>\n",
              "    .colab-df-container {\n",
              "      display:flex;\n",
              "      gap: 12px;\n",
              "    }\n",
              "\n",
              "    .colab-df-convert {\n",
              "      background-color: #E8F0FE;\n",
              "      border: none;\n",
              "      border-radius: 50%;\n",
              "      cursor: pointer;\n",
              "      display: none;\n",
              "      fill: #1967D2;\n",
              "      height: 32px;\n",
              "      padding: 0 0 0 0;\n",
              "      width: 32px;\n",
              "    }\n",
              "\n",
              "    .colab-df-convert:hover {\n",
              "      background-color: #E2EBFA;\n",
              "      box-shadow: 0px 1px 2px rgba(60, 64, 67, 0.3), 0px 1px 3px 1px rgba(60, 64, 67, 0.15);\n",
              "      fill: #174EA6;\n",
              "    }\n",
              "\n",
              "    .colab-df-buttons div {\n",
              "      margin-bottom: 4px;\n",
              "    }\n",
              "\n",
              "    [theme=dark] .colab-df-convert {\n",
              "      background-color: #3B4455;\n",
              "      fill: #D2E3FC;\n",
              "    }\n",
              "\n",
              "    [theme=dark] .colab-df-convert:hover {\n",
              "      background-color: #434B5C;\n",
              "      box-shadow: 0px 1px 3px 1px rgba(0, 0, 0, 0.15);\n",
              "      filter: drop-shadow(0px 1px 2px rgba(0, 0, 0, 0.3));\n",
              "      fill: #FFFFFF;\n",
              "    }\n",
              "  </style>\n",
              "\n",
              "    <script>\n",
              "      const buttonEl =\n",
              "        document.querySelector('#df-e1e86426-d895-4765-acb0-f891cf820e70 button.colab-df-convert');\n",
              "      buttonEl.style.display =\n",
              "        google.colab.kernel.accessAllowed ? 'block' : 'none';\n",
              "\n",
              "      async function convertToInteractive(key) {\n",
              "        const element = document.querySelector('#df-e1e86426-d895-4765-acb0-f891cf820e70');\n",
              "        const dataTable =\n",
              "          await google.colab.kernel.invokeFunction('convertToInteractive',\n",
              "                                                    [key], {});\n",
              "        if (!dataTable) return;\n",
              "\n",
              "        const docLinkHtml = 'Like what you see? Visit the ' +\n",
              "          '<a target=\"_blank\" href=https://colab.research.google.com/notebooks/data_table.ipynb>data table notebook</a>'\n",
              "          + ' to learn more about interactive tables.';\n",
              "        element.innerHTML = '';\n",
              "        dataTable['output_type'] = 'display_data';\n",
              "        await google.colab.output.renderOutput(dataTable, element);\n",
              "        const docLink = document.createElement('div');\n",
              "        docLink.innerHTML = docLinkHtml;\n",
              "        element.appendChild(docLink);\n",
              "      }\n",
              "    </script>\n",
              "  </div>\n",
              "\n",
              "\n",
              "<div id=\"df-e2361f07-7075-4ca8-b298-667c2120f175\">\n",
              "  <button class=\"colab-df-quickchart\" onclick=\"quickchart('df-e2361f07-7075-4ca8-b298-667c2120f175')\"\n",
              "            title=\"Suggest charts\"\n",
              "            style=\"display:none;\">\n",
              "\n",
              "<svg xmlns=\"http://www.w3.org/2000/svg\" height=\"24px\"viewBox=\"0 0 24 24\"\n",
              "     width=\"24px\">\n",
              "    <g>\n",
              "        <path d=\"M19 3H5c-1.1 0-2 .9-2 2v14c0 1.1.9 2 2 2h14c1.1 0 2-.9 2-2V5c0-1.1-.9-2-2-2zM9 17H7v-7h2v7zm4 0h-2V7h2v10zm4 0h-2v-4h2v4z\"/>\n",
              "    </g>\n",
              "</svg>\n",
              "  </button>\n",
              "\n",
              "<style>\n",
              "  .colab-df-quickchart {\n",
              "      --bg-color: #E8F0FE;\n",
              "      --fill-color: #1967D2;\n",
              "      --hover-bg-color: #E2EBFA;\n",
              "      --hover-fill-color: #174EA6;\n",
              "      --disabled-fill-color: #AAA;\n",
              "      --disabled-bg-color: #DDD;\n",
              "  }\n",
              "\n",
              "  [theme=dark] .colab-df-quickchart {\n",
              "      --bg-color: #3B4455;\n",
              "      --fill-color: #D2E3FC;\n",
              "      --hover-bg-color: #434B5C;\n",
              "      --hover-fill-color: #FFFFFF;\n",
              "      --disabled-bg-color: #3B4455;\n",
              "      --disabled-fill-color: #666;\n",
              "  }\n",
              "\n",
              "  .colab-df-quickchart {\n",
              "    background-color: var(--bg-color);\n",
              "    border: none;\n",
              "    border-radius: 50%;\n",
              "    cursor: pointer;\n",
              "    display: none;\n",
              "    fill: var(--fill-color);\n",
              "    height: 32px;\n",
              "    padding: 0;\n",
              "    width: 32px;\n",
              "  }\n",
              "\n",
              "  .colab-df-quickchart:hover {\n",
              "    background-color: var(--hover-bg-color);\n",
              "    box-shadow: 0 1px 2px rgba(60, 64, 67, 0.3), 0 1px 3px 1px rgba(60, 64, 67, 0.15);\n",
              "    fill: var(--button-hover-fill-color);\n",
              "  }\n",
              "\n",
              "  .colab-df-quickchart-complete:disabled,\n",
              "  .colab-df-quickchart-complete:disabled:hover {\n",
              "    background-color: var(--disabled-bg-color);\n",
              "    fill: var(--disabled-fill-color);\n",
              "    box-shadow: none;\n",
              "  }\n",
              "\n",
              "  .colab-df-spinner {\n",
              "    border: 2px solid var(--fill-color);\n",
              "    border-color: transparent;\n",
              "    border-bottom-color: var(--fill-color);\n",
              "    animation:\n",
              "      spin 1s steps(1) infinite;\n",
              "  }\n",
              "\n",
              "  @keyframes spin {\n",
              "    0% {\n",
              "      border-color: transparent;\n",
              "      border-bottom-color: var(--fill-color);\n",
              "      border-left-color: var(--fill-color);\n",
              "    }\n",
              "    20% {\n",
              "      border-color: transparent;\n",
              "      border-left-color: var(--fill-color);\n",
              "      border-top-color: var(--fill-color);\n",
              "    }\n",
              "    30% {\n",
              "      border-color: transparent;\n",
              "      border-left-color: var(--fill-color);\n",
              "      border-top-color: var(--fill-color);\n",
              "      border-right-color: var(--fill-color);\n",
              "    }\n",
              "    40% {\n",
              "      border-color: transparent;\n",
              "      border-right-color: var(--fill-color);\n",
              "      border-top-color: var(--fill-color);\n",
              "    }\n",
              "    60% {\n",
              "      border-color: transparent;\n",
              "      border-right-color: var(--fill-color);\n",
              "    }\n",
              "    80% {\n",
              "      border-color: transparent;\n",
              "      border-right-color: var(--fill-color);\n",
              "      border-bottom-color: var(--fill-color);\n",
              "    }\n",
              "    90% {\n",
              "      border-color: transparent;\n",
              "      border-bottom-color: var(--fill-color);\n",
              "    }\n",
              "  }\n",
              "</style>\n",
              "\n",
              "  <script>\n",
              "    async function quickchart(key) {\n",
              "      const quickchartButtonEl =\n",
              "        document.querySelector('#' + key + ' button');\n",
              "      quickchartButtonEl.disabled = true;  // To prevent multiple clicks.\n",
              "      quickchartButtonEl.classList.add('colab-df-spinner');\n",
              "      try {\n",
              "        const charts = await google.colab.kernel.invokeFunction(\n",
              "            'suggestCharts', [key], {});\n",
              "      } catch (error) {\n",
              "        console.error('Error during call to suggestCharts:', error);\n",
              "      }\n",
              "      quickchartButtonEl.classList.remove('colab-df-spinner');\n",
              "      quickchartButtonEl.classList.add('colab-df-quickchart-complete');\n",
              "    }\n",
              "    (() => {\n",
              "      let quickchartButtonEl =\n",
              "        document.querySelector('#df-e2361f07-7075-4ca8-b298-667c2120f175 button');\n",
              "      quickchartButtonEl.style.display =\n",
              "        google.colab.kernel.accessAllowed ? 'block' : 'none';\n",
              "    })();\n",
              "  </script>\n",
              "</div>\n",
              "\n",
              "    </div>\n",
              "  </div>\n"
            ],
            "application/vnd.google.colaboratory.intrinsic+json": {
              "type": "dataframe",
              "summary": "{\n  \"name\": \"train_int\",\n  \"rows\": 8,\n  \"fields\": [\n    {\n      \"column\": \"Age\",\n      \"properties\": {\n        \"dtype\": \"number\",\n        \"std\": 7058.609616410046,\n        \"min\": 0.0,\n        \"max\": 20000.0,\n        \"num_unique_values\": 8,\n        \"samples\": [\n          35.6325,\n          34.0,\n          20000.0\n        ],\n        \"semantic_type\": \"\",\n        \"description\": \"\"\n      }\n    },\n    {\n      \"column\": \"Working_Week (Yearly)\",\n      \"properties\": {\n        \"dtype\": \"number\",\n        \"std\": 7059.976003579797,\n        \"min\": 0.0,\n        \"max\": 20000.0,\n        \"num_unique_values\": 6,\n        \"samples\": [\n          20000.0,\n          34.94305,\n          52.0\n        ],\n        \"semantic_type\": \"\",\n        \"description\": \"\"\n      }\n    },\n    {\n      \"column\": \"Gains\",\n      \"properties\": {\n        \"dtype\": \"number\",\n        \"std\": 34803.05663043778,\n        \"min\": 0.0,\n        \"max\": 99999.0,\n        \"num_unique_values\": 5,\n        \"samples\": [\n          383.1295,\n          99999.0,\n          4144.247487372295\n        ],\n        \"semantic_type\": \"\",\n        \"description\": \"\"\n      }\n    },\n    {\n      \"column\": \"Losses\",\n      \"properties\": {\n        \"dtype\": \"number\",\n        \"std\": 6999.43842783084,\n        \"min\": 0.0,\n        \"max\": 20000.0,\n        \"num_unique_values\": 5,\n        \"samples\": [\n          40.20215,\n          4356.0,\n          279.18267699435467\n        ],\n        \"semantic_type\": \"\",\n        \"description\": \"\"\n      }\n    },\n    {\n      \"column\": \"Dividends\",\n      \"properties\": {\n        \"dtype\": \"number\",\n        \"std\": 16372.916256012952,\n        \"min\": 0.0,\n        \"max\": 45000.0,\n        \"num_unique_values\": 5,\n        \"samples\": [\n          123.45145,\n          45000.0,\n          1206.9494292592117\n        ],\n        \"semantic_type\": \"\",\n        \"description\": \"\"\n      }\n    },\n    {\n      \"column\": \"Income\",\n      \"properties\": {\n        \"dtype\": \"number\",\n        \"std\": 7257.555344582014,\n        \"min\": 0.0,\n        \"max\": 20000.0,\n        \"num_unique_values\": 7,\n        \"samples\": [\n          20000.0,\n          554.56525,\n          875.0\n        ],\n        \"semantic_type\": \"\",\n        \"description\": \"\"\n      }\n    }\n  ]\n}"
            }
          },
          "metadata": {},
          "execution_count": 162
        }
      ],
      "source": [
        "train_int.describe()"
      ]
    },
    {
      "cell_type": "markdown",
      "id": "f3a549ab",
      "metadata": {
        "id": "f3a549ab"
      },
      "source": [
        "### 연속형 변수 EDA"
      ]
    },
    {
      "cell_type": "markdown",
      "id": "aa5d73e4",
      "metadata": {
        "id": "aa5d73e4"
      },
      "source": [
        "#### AGE"
      ]
    },
    {
      "cell_type": "code",
      "execution_count": 163,
      "id": "fa23f9d4",
      "metadata": {
        "id": "fa23f9d4",
        "outputId": "1168a3f7-8e51-48e9-f50e-545303f4fe00",
        "colab": {
          "base_uri": "https://localhost:8080/",
          "height": 407
        }
      },
      "outputs": [
        {
          "output_type": "display_data",
          "data": {
            "text/plain": [
              "<Figure size 1000x400 with 2 Axes>"
            ],
            "image/png": "[encoded data removed]"
          },
          "metadata": {}
        }
      ],
      "source": [
        "fig, axes = plt.subplots(1, 2, figsize=(10, 4))\n",
        "\n",
        "train_int['Age'].hist(bins =  50,ax=axes[0])\n",
        "axes[0].set_title('Histogram')\n",
        "\n",
        "train_int['Age'].plot(kind = 'box',ax=axes[1])\n",
        "axes[1].set_title('Boxplot')\n",
        "\n",
        "plt.tight_layout()\n",
        "\n",
        "# Show the plot\n",
        "plt.show()"
      ]
    },
    {
      "cell_type": "code",
      "execution_count": 164,
      "id": "0883d817",
      "metadata": {
        "id": "0883d817"
      },
      "outputs": [],
      "source": [
        "# - Age 히스토그램과 박스플롯\n",
        "# 평균과 중앙값에 큰차이가 없지만 오른쪽이 다소 조금 긴 형태를 띄고 있습니다.\n",
        "# 박스플랏을 통해서도 큰 이상치는 존재하지 않아 보입니다."
      ]
    },
    {
      "cell_type": "markdown",
      "id": "5378e894",
      "metadata": {
        "id": "5378e894"
      },
      "source": [
        "#### Working_Week (Yearly)"
      ]
    },
    {
      "cell_type": "code",
      "execution_count": 165,
      "id": "8bf15008",
      "metadata": {
        "id": "8bf15008",
        "outputId": "0c554003-9dac-4746-9b4b-832e73186c89",
        "colab": {
          "base_uri": "https://localhost:8080/",
          "height": 407
        }
      },
      "outputs": [
        {
          "output_type": "display_data",
          "data": {
            "text/plain": [
              "<Figure size 1000x400 with 2 Axes>"
            ],
            "image/png": "[encoded data removed]"
          },
          "metadata": {}
        }
      ],
      "source": [
        "fig, axes = plt.subplots(1, 2, figsize=(10, 4))\n",
        "\n",
        "train_int['Working_Week (Yearly)'].hist(bins =  50,ax=axes[0])\n",
        "axes[0].set_title('Histogram')\n",
        "\n",
        "train_int['Working_Week (Yearly)'].plot(kind = 'box',ax=axes[1])\n",
        "axes[1].set_title('Boxplot')\n",
        "\n",
        "plt.tight_layout()\n",
        "\n",
        "# Show the plot\n",
        "plt.show()"
      ]
    },
    {
      "cell_type": "code",
      "execution_count": 166,
      "id": "dfb246ef",
      "metadata": {
        "id": "dfb246ef"
      },
      "outputs": [],
      "source": [
        "# - Working_Week (Yearly)\n",
        "# 히스토그램을 통해 분포가 아주 극단적인 것을 확인할 수 있습니다.\n",
        "# 평균과 중앙값에 차이가 있으며 심지어 최댓값이 중앙값과 일치합니다.\n",
        "# 이는 평균이나 중앙값이 가진 통계량에 정보가 크리티컬하지 않음을 보여주며 이상치는 없는 것을 확인할 수 있습니다.\n",
        "# 연속형이지만 히스토그램을 통한 분포는 베르누이분포와 유사하며 이산형으로 전처리가 가능해보입니다.\n"
      ]
    },
    {
      "cell_type": "markdown",
      "id": "43758cb5",
      "metadata": {
        "id": "43758cb5"
      },
      "source": [
        "#### Gains"
      ]
    },
    {
      "cell_type": "code",
      "execution_count": 167,
      "id": "8b149db1",
      "metadata": {
        "id": "8b149db1",
        "outputId": "818e160d-bdcd-492c-fe38-d7a6136b1058",
        "colab": {
          "base_uri": "https://localhost:8080/",
          "height": 407
        }
      },
      "outputs": [
        {
          "output_type": "display_data",
          "data": {
            "text/plain": [
              "<Figure size 1000x400 with 2 Axes>"
            ],
            "image/png": "[encoded data removed]"
          },
          "metadata": {}
        }
      ],
      "source": [
        "fig, axes = plt.subplots(1, 2, figsize=(10, 4))\n",
        "\n",
        "train_int['Gains'].hist(bins =  50,ax=axes[0])\n",
        "axes[0].set_title('Histogram')\n",
        "\n",
        "train_int['Gains'].plot(kind = 'box',ax=axes[1])\n",
        "axes[1].set_title('Boxplot')\n",
        "\n",
        "plt.tight_layout()\n",
        "\n",
        "# Show the plot\n",
        "plt.show()"
      ]
    },
    {
      "cell_type": "code",
      "execution_count": 168,
      "id": "c6671c67",
      "metadata": {
        "id": "c6671c67"
      },
      "outputs": [],
      "source": [
        "# Gains\n",
        "# 왼쪽에 극단적으로 쏠려있는 분포입니다.\n",
        "# 최솟값, 중위값, 평균, 75%분위수 값이 전부 0으로 통일되었고 범주형 변수로 그룹화도 가능해보입니다.\n",
        "# boxplot을 통해서 이상치가 있음을 알 수 있습니다. 이상치 처리가 필요해보입니다."
      ]
    },
    {
      "cell_type": "markdown",
      "id": "e1f4160a",
      "metadata": {
        "id": "e1f4160a"
      },
      "source": [
        "#### LOSSES"
      ]
    },
    {
      "cell_type": "code",
      "execution_count": 169,
      "id": "662ae751",
      "metadata": {
        "id": "662ae751",
        "outputId": "9dd20904-9189-4d94-debc-bcdfa023cea7",
        "colab": {
          "base_uri": "https://localhost:8080/",
          "height": 407
        }
      },
      "outputs": [
        {
          "output_type": "display_data",
          "data": {
            "text/plain": [
              "<Figure size 1000x400 with 2 Axes>"
            ],
            "image/png": "[encoded data removed]"
          },
          "metadata": {}
        }
      ],
      "source": [
        "fig, axes = plt.subplots(1, 2, figsize=(10, 4))\n",
        "\n",
        "train_int['Losses'].hist(bins =  50,ax=axes[0])\n",
        "axes[0].set_title('Histogram')\n",
        "\n",
        "train_int['Losses'].plot(kind = 'box',ax=axes[1])\n",
        "axes[1].set_title('Boxplot')\n",
        "\n",
        "plt.tight_layout()\n",
        "\n",
        "# Show the plot\n",
        "plt.show()"
      ]
    },
    {
      "cell_type": "code",
      "execution_count": 170,
      "id": "d5513e12",
      "metadata": {
        "id": "d5513e12"
      },
      "outputs": [],
      "source": [
        "# 마찬가지로 왼쪽에 극단적으로 쏠려 있는 분포입니다.\n",
        "# 최솟값, 중위값, 평균, 75%분위수 값이 전부 0으로 통일되었고, 범주형 변수로 그룹화도 가능해보입니다.\n",
        "# 이상치가 존재하지만 삭제에 대한 고려를 해보아야할 것 같습니다."
      ]
    },
    {
      "cell_type": "markdown",
      "id": "9ae7886c",
      "metadata": {
        "id": "9ae7886c"
      },
      "source": [
        "#### INCOME"
      ]
    },
    {
      "cell_type": "code",
      "execution_count": 171,
      "id": "9ca58002",
      "metadata": {
        "id": "9ca58002",
        "outputId": "7ed089a6-4498-42ba-df7e-7b7a13b75e7d",
        "colab": {
          "base_uri": "https://localhost:8080/",
          "height": 407
        }
      },
      "outputs": [
        {
          "output_type": "display_data",
          "data": {
            "text/plain": [
              "<Figure size 1000x400 with 2 Axes>"
            ],
            "image/png": "[encoded data removed]"
          },
          "metadata": {}
        }
      ],
      "source": [
        "fig, axes = plt.subplots(1, 2, figsize=(10, 4))\n",
        "\n",
        "train_int['Income'].hist(bins =  50,ax=axes[0])\n",
        "axes[0].set_title('Histogram')\n",
        "\n",
        "train_int['Income'].plot(kind = 'box',ax=axes[1])\n",
        "axes[1].set_title('Boxplot')\n",
        "\n",
        "plt.tight_layout()\n",
        "\n",
        "plt.show()"
      ]
    },
    {
      "cell_type": "code",
      "execution_count": 172,
      "id": "0f8bdbab",
      "metadata": {
        "id": "0f8bdbab"
      },
      "outputs": [],
      "source": [
        "# 마찬가지로 경제, 금융과 관련된 변수의 분포는 왼쪽에 몰려있는 것을 확인할 수 있습니다.\n",
        "# 이상치또한 존재하지만, 삭제에 대한 고려가 필요해보입니다."
      ]
    },
    {
      "cell_type": "code",
      "execution_count": 173,
      "id": "d7d9447f",
      "metadata": {
        "id": "d7d9447f",
        "outputId": "9da1c331-0d5f-45c1-9942-3e54445d65d6",
        "colab": {
          "base_uri": "https://localhost:8080/",
          "height": 672
        }
      },
      "outputs": [
        {
          "output_type": "display_data",
          "data": {
            "text/plain": [
              "<Figure size 800x600 with 2 Axes>"
            ],
            "image/png": "[encoded data removed]"
          },
          "metadata": {}
        }
      ],
      "source": [
        "import seaborn as sns\n",
        "\n",
        "plt.figure(figsize=(8, 6))\n",
        "sns.heatmap(np.log(train_int+1).corr(), annot=True, cmap='coolwarm', fmt=\".2f\")\n",
        "plt.show()"
      ]
    },
    {
      "cell_type": "code",
      "execution_count": 174,
      "id": "60f23ac1",
      "metadata": {
        "id": "60f23ac1"
      },
      "outputs": [],
      "source": [
        "# 소득과 주중근로시간이 양의 상관성이 높게 나왔고,나이와 주중근로시간 또한 높게 나왔습니다.\n",
        "# 나이가 많아짐에 따라 직장인의 비율이 높아질 것으로 보입니다.\n",
        "# 따라서 취업 비율이 높아짐에 따라 주중근로시간은 높게 나타날 것이라 생각합니다.\n",
        "# 나이에 따라 소득또한 어느정도 상관성이 있어보입니다.\n"
      ]
    }
  ],
  "metadata": {
    "kernelspec": {
      "display_name": "Python 3 (ipykernel)",
      "language": "python",
      "name": "python3"
    },
    "language_info": {
      "codemirror_mode": {
        "name": "ipython",
        "version": 3
      },
      "file_extension": ".py",
      "mimetype": "text/x-python",
      "name": "python",
      "nbconvert_exporter": "python",
      "pygments_lexer": "ipython3",
      "version": "3.11.5"
    },
    "colab": {
      "provenance": []
    }
  },
  "nbformat": 4,
  "nbformat_minor": 5
}